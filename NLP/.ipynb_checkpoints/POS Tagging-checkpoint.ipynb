{
 "cells": [
  {
   "cell_type": "code",
   "execution_count": 5,
   "id": "e639ee67",
   "metadata": {
    "scrolled": true
   },
   "outputs": [],
   "source": [
    "import nltk"
   ]
  },
  {
   "cell_type": "code",
   "execution_count": 6,
   "id": "db529884",
   "metadata": {},
   "outputs": [
    {
     "name": "stderr",
     "output_type": "stream",
     "text": [
      "[nltk_data] Downloading package punkt to\n",
      "[nltk_data]     /Users/rishabhbanerjee/nltk_data...\n",
      "[nltk_data]   Package punkt is already up-to-date!\n"
     ]
    },
    {
     "data": {
      "text/plain": [
       "True"
      ]
     },
     "execution_count": 6,
     "metadata": {},
     "output_type": "execute_result"
    }
   ],
   "source": [
    "nltk.download('punkt')"
   ]
  },
  {
   "cell_type": "code",
   "execution_count": 7,
   "id": "add357d0",
   "metadata": {},
   "outputs": [],
   "source": [
    "text = nltk.word_tokenize(\"And now for something completely different\")"
   ]
  },
  {
   "cell_type": "code",
   "execution_count": 8,
   "id": "d0750b06",
   "metadata": {},
   "outputs": [
    {
     "name": "stderr",
     "output_type": "stream",
     "text": [
      "[nltk_data] Downloading package averaged_perceptron_tagger to\n",
      "[nltk_data]     /Users/rishabhbanerjee/nltk_data...\n",
      "[nltk_data]   Package averaged_perceptron_tagger is already up-to-\n",
      "[nltk_data]       date!\n"
     ]
    },
    {
     "data": {
      "text/plain": [
       "True"
      ]
     },
     "execution_count": 8,
     "metadata": {},
     "output_type": "execute_result"
    }
   ],
   "source": [
    "nltk.download('averaged_perceptron_tagger')"
   ]
  },
  {
   "cell_type": "code",
   "execution_count": 9,
   "id": "3d05522f",
   "metadata": {},
   "outputs": [
    {
     "data": {
      "text/plain": [
       "[('And', 'CC'),\n",
       " ('now', 'RB'),\n",
       " ('for', 'IN'),\n",
       " ('something', 'NN'),\n",
       " ('completely', 'RB'),\n",
       " ('different', 'JJ')]"
      ]
     },
     "execution_count": 9,
     "metadata": {},
     "output_type": "execute_result"
    }
   ],
   "source": [
    "nltk.pos_tag(text)"
   ]
  },
  {
   "cell_type": "code",
   "execution_count": 10,
   "id": "51eb6f2b",
   "metadata": {},
   "outputs": [],
   "source": [
    "text = nltk.word_tokenize(\"They refuse to permit us to obtain the refuse permit\")"
   ]
  },
  {
   "cell_type": "code",
   "execution_count": 11,
   "id": "e15c7e48",
   "metadata": {},
   "outputs": [
    {
     "data": {
      "text/plain": [
       "[('They', 'PRP'),\n",
       " ('refuse', 'VBP'),\n",
       " ('to', 'TO'),\n",
       " ('permit', 'VB'),\n",
       " ('us', 'PRP'),\n",
       " ('to', 'TO'),\n",
       " ('obtain', 'VB'),\n",
       " ('the', 'DT'),\n",
       " ('refuse', 'NN'),\n",
       " ('permit', 'NN')]"
      ]
     },
     "execution_count": 11,
     "metadata": {},
     "output_type": "execute_result"
    }
   ],
   "source": [
    "nltk.pos_tag(text)"
   ]
  },
  {
   "cell_type": "code",
   "execution_count": 12,
   "id": "1fb020e7",
   "metadata": {},
   "outputs": [
    {
     "name": "stderr",
     "output_type": "stream",
     "text": [
      "[nltk_data] Downloading package brown to\n",
      "[nltk_data]     /Users/rishabhbanerjee/nltk_data...\n",
      "[nltk_data]   Package brown is already up-to-date!\n"
     ]
    },
    {
     "data": {
      "text/plain": [
       "True"
      ]
     },
     "execution_count": 12,
     "metadata": {},
     "output_type": "execute_result"
    }
   ],
   "source": [
    "nltk.download('brown')"
   ]
  },
  {
   "cell_type": "raw",
   "id": "1de3968c",
   "metadata": {},
   "source": [
    "text = nltk.Text(word.lower() for word in nltk.corpus.brown.words())"
   ]
  },
  {
   "cell_type": "code",
   "execution_count": 13,
   "id": "86f95ad0",
   "metadata": {},
   "outputs": [
    {
     "ename": "AttributeError",
     "evalue": "'list' object has no attribute 'similar'",
     "output_type": "error",
     "traceback": [
      "\u001b[0;31m---------------------------------------------------------------------------\u001b[0m",
      "\u001b[0;31mAttributeError\u001b[0m                            Traceback (most recent call last)",
      "Cell \u001b[0;32mIn[13], line 1\u001b[0m\n\u001b[0;32m----> 1\u001b[0m text\u001b[38;5;241m.\u001b[39msimilar(\u001b[38;5;124m'\u001b[39m\u001b[38;5;124mwoman\u001b[39m\u001b[38;5;124m'\u001b[39m)\n",
      "\u001b[0;31mAttributeError\u001b[0m: 'list' object has no attribute 'similar'"
     ]
    }
   ],
   "source": [
    "text.similar('woman')"
   ]
  },
  {
   "cell_type": "code",
   "execution_count": 14,
   "id": "2902caa5",
   "metadata": {},
   "outputs": [
    {
     "ename": "AttributeError",
     "evalue": "'list' object has no attribute 'similar'",
     "output_type": "error",
     "traceback": [
      "\u001b[0;31m---------------------------------------------------------------------------\u001b[0m",
      "\u001b[0;31mAttributeError\u001b[0m                            Traceback (most recent call last)",
      "Cell \u001b[0;32mIn[14], line 1\u001b[0m\n\u001b[0;32m----> 1\u001b[0m text\u001b[38;5;241m.\u001b[39msimilar(\u001b[38;5;124m'\u001b[39m\u001b[38;5;124mbought\u001b[39m\u001b[38;5;124m'\u001b[39m)\n",
      "\u001b[0;31mAttributeError\u001b[0m: 'list' object has no attribute 'similar'"
     ]
    }
   ],
   "source": [
    "text.similar('bought')"
   ]
  },
  {
   "cell_type": "code",
   "execution_count": 15,
   "id": "120e24cb",
   "metadata": {},
   "outputs": [
    {
     "name": "stderr",
     "output_type": "stream",
     "text": [
      "[nltk_data] Downloading package nps_chat to\n",
      "[nltk_data]     /Users/rishabhbanerjee/nltk_data...\n",
      "[nltk_data]   Package nps_chat is already up-to-date!\n"
     ]
    },
    {
     "data": {
      "text/plain": [
       "True"
      ]
     },
     "execution_count": 15,
     "metadata": {},
     "output_type": "execute_result"
    }
   ],
   "source": [
    "nltk.download('nps_chat')"
   ]
  },
  {
   "cell_type": "code",
   "execution_count": 16,
   "id": "7d34f7dd",
   "metadata": {},
   "outputs": [
    {
     "name": "stderr",
     "output_type": "stream",
     "text": [
      "[nltk_data] Downloading package nps_chat to\n",
      "[nltk_data]     /Users/rishabhbanerjee/nltk_data...\n",
      "[nltk_data]   Package nps_chat is already up-to-date!\n"
     ]
    },
    {
     "data": {
      "text/plain": [
       "True"
      ]
     },
     "execution_count": 16,
     "metadata": {},
     "output_type": "execute_result"
    }
   ],
   "source": [
    "nltk.download('nps_chat')"
   ]
  },
  {
   "cell_type": "code",
   "execution_count": 17,
   "id": "d36c05f1",
   "metadata": {},
   "outputs": [
    {
     "data": {
      "text/plain": [
       "[('now', 'RB'), ('im', 'PRP'), ('left', 'VBD'), ...]"
      ]
     },
     "execution_count": 17,
     "metadata": {},
     "output_type": "execute_result"
    }
   ],
   "source": [
    "nltk.corpus.nps_chat.tagged_words()"
   ]
  },
  {
   "cell_type": "code",
   "execution_count": 18,
   "id": "19fa9b31",
   "metadata": {
    "scrolled": true
   },
   "outputs": [
    {
     "name": "stderr",
     "output_type": "stream",
     "text": [
      "[nltk_data] Downloading package conll2000 to\n",
      "[nltk_data]     /Users/rishabhbanerjee/nltk_data...\n",
      "[nltk_data]   Package conll2000 is already up-to-date!\n"
     ]
    },
    {
     "data": {
      "text/plain": [
       "True"
      ]
     },
     "execution_count": 18,
     "metadata": {},
     "output_type": "execute_result"
    }
   ],
   "source": [
    "nltk.download('conll2000')"
   ]
  },
  {
   "cell_type": "code",
   "execution_count": 19,
   "id": "e0572433",
   "metadata": {},
   "outputs": [
    {
     "data": {
      "text/plain": [
       "[('Confidence', 'NN'), ('in', 'IN'), ('the', 'DT'), ...]"
      ]
     },
     "execution_count": 19,
     "metadata": {},
     "output_type": "execute_result"
    }
   ],
   "source": [
    "nltk.corpus.conll2000.tagged_words()"
   ]
  },
  {
   "cell_type": "code",
   "execution_count": 20,
   "id": "2807f88a",
   "metadata": {
    "scrolled": true
   },
   "outputs": [
    {
     "name": "stderr",
     "output_type": "stream",
     "text": [
      "[nltk_data] Downloading package treebank to\n",
      "[nltk_data]     /Users/rishabhbanerjee/nltk_data...\n",
      "[nltk_data]   Package treebank is already up-to-date!\n"
     ]
    },
    {
     "data": {
      "text/plain": [
       "True"
      ]
     },
     "execution_count": 20,
     "metadata": {},
     "output_type": "execute_result"
    }
   ],
   "source": [
    "nltk.download('treebank')"
   ]
  },
  {
   "cell_type": "code",
   "execution_count": 21,
   "id": "ac9e9e48",
   "metadata": {
    "scrolled": true
   },
   "outputs": [
    {
     "data": {
      "text/plain": [
       "[('Pierre', 'NNP'), ('Vinken', 'NNP'), (',', ','), ...]"
      ]
     },
     "execution_count": 21,
     "metadata": {},
     "output_type": "execute_result"
    }
   ],
   "source": [
    "nltk.corpus.treebank.tagged_words()"
   ]
  },
  {
   "cell_type": "code",
   "execution_count": 22,
   "id": "79328076",
   "metadata": {},
   "outputs": [
    {
     "name": "stderr",
     "output_type": "stream",
     "text": [
      "[nltk_data] Downloading package universal_tagset to\n",
      "[nltk_data]     /Users/rishabhbanerjee/nltk_data...\n",
      "[nltk_data]   Package universal_tagset is already up-to-date!\n"
     ]
    },
    {
     "data": {
      "text/plain": [
       "True"
      ]
     },
     "execution_count": 22,
     "metadata": {},
     "output_type": "execute_result"
    }
   ],
   "source": [
    "nltk.download('universal_tagset')"
   ]
  },
  {
   "cell_type": "code",
   "execution_count": 23,
   "id": "d95c82b0",
   "metadata": {
    "scrolled": true
   },
   "outputs": [
    {
     "data": {
      "text/plain": [
       "[('The', 'DET'), ('Fulton', 'NOUN'), ...]"
      ]
     },
     "execution_count": 23,
     "metadata": {},
     "output_type": "execute_result"
    }
   ],
   "source": [
    "nltk.corpus.brown.tagged_words(tagset='universal')"
   ]
  },
  {
   "cell_type": "code",
   "execution_count": 24,
   "id": "3ddc137b",
   "metadata": {
    "scrolled": true
   },
   "outputs": [
    {
     "data": {
      "text/plain": [
       "[('The', 'DET'),\n",
       " ('Fulton', 'NOUN'),\n",
       " ('County', 'NOUN'),\n",
       " ('Grand', 'ADJ'),\n",
       " ('Jury', 'NOUN'),\n",
       " ('said', 'VERB'),\n",
       " ('Friday', 'NOUN'),\n",
       " ('an', 'DET'),\n",
       " ('investigation', 'NOUN'),\n",
       " ('of', 'ADP')]"
      ]
     },
     "execution_count": 24,
     "metadata": {},
     "output_type": "execute_result"
    }
   ],
   "source": [
    "nltk.corpus.brown.tagged_words(tagset='universal')[:10]"
   ]
  },
  {
   "cell_type": "code",
   "execution_count": 25,
   "id": "794ca67b",
   "metadata": {},
   "outputs": [
    {
     "data": {
      "text/plain": [
       "[('Pierre', 'NOUN'),\n",
       " ('Vinken', 'NOUN'),\n",
       " (',', '.'),\n",
       " ('61', 'NUM'),\n",
       " ('years', 'NOUN'),\n",
       " ('old', 'ADJ'),\n",
       " (',', '.'),\n",
       " ('will', 'VERB'),\n",
       " ('join', 'VERB'),\n",
       " ('the', 'DET')]"
      ]
     },
     "execution_count": 25,
     "metadata": {},
     "output_type": "execute_result"
    }
   ],
   "source": [
    "nltk.corpus.treebank.tagged_words(tagset='universal')[:10]"
   ]
  },
  {
   "cell_type": "code",
   "execution_count": 26,
   "id": "49c9a75a",
   "metadata": {},
   "outputs": [],
   "source": [
    "from nltk.corpus import brown"
   ]
  },
  {
   "cell_type": "code",
   "execution_count": 27,
   "id": "83d21878",
   "metadata": {},
   "outputs": [],
   "source": [
    "brown_tagged_sents = brown.tagged_sents(categories='news')"
   ]
  },
  {
   "cell_type": "code",
   "execution_count": 28,
   "id": "4b506f46",
   "metadata": {},
   "outputs": [],
   "source": [
    "brown_sents =  brown.sents(categories='news')"
   ]
  },
  {
   "cell_type": "code",
   "execution_count": 29,
   "id": "bd71af4b",
   "metadata": {},
   "outputs": [],
   "source": [
    "tags = [tag for (word, tag) in brown.tagged_words(categories='news')]"
   ]
  },
  {
   "cell_type": "code",
   "execution_count": 30,
   "id": "85d3ece4",
   "metadata": {},
   "outputs": [
    {
     "data": {
      "text/plain": [
       "'NN'"
      ]
     },
     "execution_count": 30,
     "metadata": {},
     "output_type": "execute_result"
    }
   ],
   "source": [
    "nltk.FreqDist(tags).max()"
   ]
  },
  {
   "cell_type": "code",
   "execution_count": 31,
   "id": "50cd918d",
   "metadata": {},
   "outputs": [
    {
     "data": {
      "text/plain": [
       "[[('The', 'AT'), ('Fulton', 'NP-TL'), ('County', 'NN-TL'), ('Grand', 'JJ-TL'), ('Jury', 'NN-TL'), ('said', 'VBD'), ('Friday', 'NR'), ('an', 'AT'), ('investigation', 'NN'), ('of', 'IN'), (\"Atlanta's\", 'NP$'), ('recent', 'JJ'), ('primary', 'NN'), ('election', 'NN'), ('produced', 'VBD'), ('``', '``'), ('no', 'AT'), ('evidence', 'NN'), (\"''\", \"''\"), ('that', 'CS'), ('any', 'DTI'), ('irregularities', 'NNS'), ('took', 'VBD'), ('place', 'NN'), ('.', '.')], [('The', 'AT'), ('jury', 'NN'), ('further', 'RBR'), ('said', 'VBD'), ('in', 'IN'), ('term-end', 'NN'), ('presentments', 'NNS'), ('that', 'CS'), ('the', 'AT'), ('City', 'NN-TL'), ('Executive', 'JJ-TL'), ('Committee', 'NN-TL'), (',', ','), ('which', 'WDT'), ('had', 'HVD'), ('over-all', 'JJ'), ('charge', 'NN'), ('of', 'IN'), ('the', 'AT'), ('election', 'NN'), (',', ','), ('``', '``'), ('deserves', 'VBZ'), ('the', 'AT'), ('praise', 'NN'), ('and', 'CC'), ('thanks', 'NNS'), ('of', 'IN'), ('the', 'AT'), ('City', 'NN-TL'), ('of', 'IN-TL'), ('Atlanta', 'NP-TL'), (\"''\", \"''\"), ('for', 'IN'), ('the', 'AT'), ('manner', 'NN'), ('in', 'IN'), ('which', 'WDT'), ('the', 'AT'), ('election', 'NN'), ('was', 'BEDZ'), ('conducted', 'VBN'), ('.', '.')], ...]"
      ]
     },
     "execution_count": 31,
     "metadata": {},
     "output_type": "execute_result"
    }
   ],
   "source": [
    "brown_tagged_sents"
   ]
  },
  {
   "cell_type": "code",
   "execution_count": 32,
   "id": "fd5d3e2a",
   "metadata": {},
   "outputs": [
    {
     "data": {
      "text/plain": [
       "[['The', 'Fulton', 'County', 'Grand', 'Jury', 'said', 'Friday', 'an', 'investigation', 'of', \"Atlanta's\", 'recent', 'primary', 'election', 'produced', '``', 'no', 'evidence', \"''\", 'that', 'any', 'irregularities', 'took', 'place', '.'], ['The', 'jury', 'further', 'said', 'in', 'term-end', 'presentments', 'that', 'the', 'City', 'Executive', 'Committee', ',', 'which', 'had', 'over-all', 'charge', 'of', 'the', 'election', ',', '``', 'deserves', 'the', 'praise', 'and', 'thanks', 'of', 'the', 'City', 'of', 'Atlanta', \"''\", 'for', 'the', 'manner', 'in', 'which', 'the', 'election', 'was', 'conducted', '.'], ...]"
      ]
     },
     "execution_count": 32,
     "metadata": {},
     "output_type": "execute_result"
    }
   ],
   "source": [
    "brown_sents"
   ]
  },
  {
   "cell_type": "code",
   "execution_count": 33,
   "id": "728730df",
   "metadata": {},
   "outputs": [],
   "source": [
    "raw1 = 'I do not like this food and that dish, I do not like them Jack!'"
   ]
  },
  {
   "cell_type": "code",
   "execution_count": 34,
   "id": "86b4efd6",
   "metadata": {},
   "outputs": [],
   "source": [
    "tokens = nltk.word_tokenize(raw1)"
   ]
  },
  {
   "cell_type": "code",
   "execution_count": 35,
   "id": "51abb921",
   "metadata": {},
   "outputs": [],
   "source": [
    "default_tagger = nltk.DefaultTagger('NN')"
   ]
  },
  {
   "cell_type": "code",
   "execution_count": 36,
   "id": "8d97f764",
   "metadata": {},
   "outputs": [
    {
     "data": {
      "text/plain": [
       "[('I', 'NN'),\n",
       " ('do', 'NN'),\n",
       " ('not', 'NN'),\n",
       " ('like', 'NN'),\n",
       " ('this', 'NN'),\n",
       " ('food', 'NN'),\n",
       " ('and', 'NN'),\n",
       " ('that', 'NN'),\n",
       " ('dish', 'NN'),\n",
       " (',', 'NN'),\n",
       " ('I', 'NN'),\n",
       " ('do', 'NN'),\n",
       " ('not', 'NN'),\n",
       " ('like', 'NN'),\n",
       " ('them', 'NN'),\n",
       " ('Jack', 'NN'),\n",
       " ('!', 'NN')]"
      ]
     },
     "execution_count": 36,
     "metadata": {},
     "output_type": "execute_result"
    }
   ],
   "source": [
    "default_tagger.tag(tokens)"
   ]
  },
  {
   "cell_type": "code",
   "execution_count": 37,
   "id": "96e563e0",
   "metadata": {},
   "outputs": [
    {
     "data": {
      "text/plain": [
       "0.13089484257215028"
      ]
     },
     "execution_count": 37,
     "metadata": {},
     "output_type": "execute_result"
    }
   ],
   "source": [
    "default_tagger.accuracy(brown_tagged_sents)"
   ]
  },
  {
   "cell_type": "code",
   "execution_count": 38,
   "id": "e24a1f3b",
   "metadata": {},
   "outputs": [],
   "source": [
    "import re"
   ]
  },
  {
   "cell_type": "code",
   "execution_count": 39,
   "id": "e9ac731c",
   "metadata": {},
   "outputs": [],
   "source": [
    "patterns = [\n",
    "(r'.*ing$', 'VBG'), # gerunds\n",
    "(r'.*ed$', 'VBD'), # simple past\n",
    "(r'.*es$', 'VBZ'), # 3rd singular present\n",
    "(r'. *ould$', 'MD'), # modals\n",
    "(r'.*\\'s$', 'NN$'), # possessive nouns\n",
    "(r'.*s$', 'NNS'), # plural nouns\n",
    "(r'^-?[0-9]+(.[0-9]+)?$', 'CD'), # cardinal numbers\n",
    "(r'.*', 'NN') # nouns (default)\n",
    "]"
   ]
  },
  {
   "cell_type": "code",
   "execution_count": 40,
   "id": "787685a6",
   "metadata": {},
   "outputs": [],
   "source": [
    "regexp_tagger = nltk.RegexpTagger(patterns)"
   ]
  },
  {
   "cell_type": "code",
   "execution_count": 41,
   "id": "0575c473",
   "metadata": {},
   "outputs": [
    {
     "data": {
      "text/plain": [
       "[('``', 'NN'),\n",
       " ('Only', 'NN'),\n",
       " ('a', 'NN'),\n",
       " ('relative', 'NN'),\n",
       " ('handful', 'NN'),\n",
       " ('of', 'NN'),\n",
       " ('such', 'NN'),\n",
       " ('reports', 'NNS'),\n",
       " ('was', 'NNS'),\n",
       " ('received', 'VBD'),\n",
       " (\"''\", 'NN'),\n",
       " (',', 'NN'),\n",
       " ('the', 'NN'),\n",
       " ('jury', 'NN'),\n",
       " ('said', 'NN'),\n",
       " (',', 'NN'),\n",
       " ('``', 'NN'),\n",
       " ('considering', 'VBG'),\n",
       " ('the', 'NN'),\n",
       " ('widespread', 'NN'),\n",
       " ('interest', 'NN'),\n",
       " ('in', 'NN'),\n",
       " ('the', 'NN'),\n",
       " ('election', 'NN'),\n",
       " (',', 'NN'),\n",
       " ('the', 'NN'),\n",
       " ('number', 'NN'),\n",
       " ('of', 'NN'),\n",
       " ('voters', 'NNS'),\n",
       " ('and', 'NN'),\n",
       " ('the', 'NN'),\n",
       " ('size', 'NN'),\n",
       " ('of', 'NN'),\n",
       " ('this', 'NNS'),\n",
       " ('city', 'NN'),\n",
       " (\"''\", 'NN'),\n",
       " ('.', 'NN')]"
      ]
     },
     "execution_count": 41,
     "metadata": {},
     "output_type": "execute_result"
    }
   ],
   "source": [
    "regexp_tagger.tag(brown_sents[3])"
   ]
  },
  {
   "cell_type": "code",
   "execution_count": 44,
   "id": "f8d199d2",
   "metadata": {},
   "outputs": [],
   "source": [
    "from nltk.corpus import brown"
   ]
  },
  {
   "cell_type": "code",
   "execution_count": 45,
   "id": "73bd2029",
   "metadata": {},
   "outputs": [],
   "source": [
    "brown_tagged_sents = brown.tagged_sents(categories='news')"
   ]
  },
  {
   "cell_type": "code",
   "execution_count": 46,
   "id": "d5bb27e7",
   "metadata": {},
   "outputs": [],
   "source": [
    "brown_sents = brown.sents(categories='news')"
   ]
  },
  {
   "cell_type": "code",
   "execution_count": 47,
   "id": "14398ed9",
   "metadata": {},
   "outputs": [],
   "source": [
    "unigram_tagger = nltk.UnigramTagger(brown_tagged_sents)"
   ]
  },
  {
   "cell_type": "code",
   "execution_count": 48,
   "id": "bcb522b2",
   "metadata": {
    "scrolled": true
   },
   "outputs": [
    {
     "data": {
      "text/plain": [
       "[('Various', 'JJ'),\n",
       " ('of', 'IN'),\n",
       " ('the', 'AT'),\n",
       " ('apartments', 'NNS'),\n",
       " ('are', 'BER'),\n",
       " ('of', 'IN'),\n",
       " ('the', 'AT'),\n",
       " ('terrace', 'NN'),\n",
       " ('type', 'NN'),\n",
       " (',', ','),\n",
       " ('being', 'BEG'),\n",
       " ('on', 'IN'),\n",
       " ('the', 'AT'),\n",
       " ('ground', 'NN'),\n",
       " ('floor', 'NN'),\n",
       " ('so', 'QL'),\n",
       " ('that', 'CS'),\n",
       " ('entrance', 'NN'),\n",
       " ('is', 'BEZ'),\n",
       " ('direct', 'JJ'),\n",
       " ('.', '.')]"
      ]
     },
     "execution_count": 48,
     "metadata": {},
     "output_type": "execute_result"
    }
   ],
   "source": [
    "unigram_tagger.tag(brown_sents[2007])"
   ]
  },
  {
   "cell_type": "code",
   "execution_count": 52,
   "id": "2350439f",
   "metadata": {},
   "outputs": [
    {
     "data": {
      "text/plain": [
       "0.9349006503968017"
      ]
     },
     "execution_count": 52,
     "metadata": {},
     "output_type": "execute_result"
    }
   ],
   "source": [
    "unigram_tagger.accuracy(brown_tagged_sents)"
   ]
  },
  {
   "cell_type": "code",
   "execution_count": 53,
   "id": "3057ad12",
   "metadata": {},
   "outputs": [],
   "source": [
    "main_size=int(len(brown_tagged_sents))"
   ]
  },
  {
   "cell_type": "code",
   "execution_count": 54,
   "id": "b63eb6bf",
   "metadata": {},
   "outputs": [],
   "source": [
    "size = int(len(brown_tagged_sents) * 0.9)"
   ]
  },
  {
   "cell_type": "code",
   "execution_count": 56,
   "id": "b702b3c5",
   "metadata": {},
   "outputs": [],
   "source": [
    "train_sents = brown_tagged_sents[:size]"
   ]
  },
  {
   "cell_type": "code",
   "execution_count": 57,
   "id": "2c268cc9",
   "metadata": {},
   "outputs": [],
   "source": [
    "test_sents = brown_tagged_sents[size:]"
   ]
  },
  {
   "cell_type": "code",
   "execution_count": 58,
   "id": "ff07a742",
   "metadata": {},
   "outputs": [],
   "source": [
    "unigram_tagger = nltk.UnigramTagger(train_sents)"
   ]
  },
  {
   "cell_type": "code",
   "execution_count": 59,
   "id": "d260ca03",
   "metadata": {},
   "outputs": [
    {
     "data": {
      "text/plain": [
       "0.8121200039868434"
      ]
     },
     "execution_count": 59,
     "metadata": {},
     "output_type": "execute_result"
    }
   ],
   "source": [
    "unigram_tagger.accuracy(test_sents)"
   ]
  },
  {
   "cell_type": "code",
   "execution_count": 60,
   "id": "600f5d05",
   "metadata": {},
   "outputs": [
    {
     "data": {
      "text/plain": [
       "<UnigramTagger: size=13574>"
      ]
     },
     "execution_count": 60,
     "metadata": {},
     "output_type": "execute_result"
    }
   ],
   "source": [
    "unigram_tagger"
   ]
  },
  {
   "cell_type": "code",
   "execution_count": 61,
   "id": "d4532432",
   "metadata": {},
   "outputs": [],
   "source": [
    "bigram_tagger = nltk.BigramTagger(train_sents)"
   ]
  },
  {
   "cell_type": "code",
   "execution_count": 62,
   "id": "23319eaf",
   "metadata": {
    "scrolled": true
   },
   "outputs": [
    {
     "data": {
      "text/plain": [
       "[('Various', 'JJ'),\n",
       " ('of', 'IN'),\n",
       " ('the', 'AT'),\n",
       " ('apartments', 'NNS'),\n",
       " ('are', 'BER'),\n",
       " ('of', 'IN'),\n",
       " ('the', 'AT'),\n",
       " ('terrace', 'NN'),\n",
       " ('type', 'NN'),\n",
       " (',', ','),\n",
       " ('being', 'BEG'),\n",
       " ('on', 'IN'),\n",
       " ('the', 'AT'),\n",
       " ('ground', 'NN'),\n",
       " ('floor', 'NN'),\n",
       " ('so', 'CS'),\n",
       " ('that', 'CS'),\n",
       " ('entrance', 'NN'),\n",
       " ('is', 'BEZ'),\n",
       " ('direct', 'JJ'),\n",
       " ('.', '.')]"
      ]
     },
     "execution_count": 62,
     "metadata": {},
     "output_type": "execute_result"
    }
   ],
   "source": [
    "bigram_tagger.tag(brown_sents[2007])"
   ]
  },
  {
   "cell_type": "code",
   "execution_count": 63,
   "id": "a009b71b",
   "metadata": {},
   "outputs": [],
   "source": [
    "unseen_sent = brown_sents[4203]"
   ]
  },
  {
   "cell_type": "code",
   "execution_count": 64,
   "id": "fe12b413",
   "metadata": {},
   "outputs": [
    {
     "data": {
      "text/plain": [
       "[('The', 'AT'),\n",
       " ('population', 'NN'),\n",
       " ('of', 'IN'),\n",
       " ('the', 'AT'),\n",
       " ('Congo', 'NP'),\n",
       " ('is', 'BEZ'),\n",
       " ('13.5', None),\n",
       " ('million', None),\n",
       " (',', None),\n",
       " ('divided', None),\n",
       " ('into', None),\n",
       " ('at', None),\n",
       " ('least', None),\n",
       " ('seven', None),\n",
       " ('major', None),\n",
       " ('``', None),\n",
       " ('culture', None),\n",
       " ('clusters', None),\n",
       " (\"''\", None),\n",
       " ('and', None),\n",
       " ('innumerable', None),\n",
       " ('tribes', None),\n",
       " ('speaking', None),\n",
       " ('400', None),\n",
       " ('separate', None),\n",
       " ('dialects', None),\n",
       " ('.', None)]"
      ]
     },
     "execution_count": 64,
     "metadata": {},
     "output_type": "execute_result"
    }
   ],
   "source": [
    "bigram_tagger.tag(unseen_sent)"
   ]
  },
  {
   "cell_type": "code",
   "execution_count": 65,
   "id": "8ee4ba9c",
   "metadata": {},
   "outputs": [],
   "source": [
    "t0 = nltk.DefaultTagger('NN')"
   ]
  },
  {
   "cell_type": "code",
   "execution_count": 67,
   "id": "b656fb28",
   "metadata": {},
   "outputs": [],
   "source": [
    "t1 = nltk.UnigramTagger(train_sents, backoff=t0)"
   ]
  },
  {
   "cell_type": "code",
   "execution_count": 69,
   "id": "a9b54bcb",
   "metadata": {},
   "outputs": [],
   "source": [
    "t2 = nltk.BigramTagger(train_sents, backoff=t1)"
   ]
  },
  {
   "cell_type": "code",
   "execution_count": 70,
   "id": "6dfd6976",
   "metadata": {},
   "outputs": [
    {
     "data": {
      "text/plain": [
       "0.8452108043456593"
      ]
     },
     "execution_count": 70,
     "metadata": {},
     "output_type": "execute_result"
    }
   ],
   "source": [
    "t2.accuracy(test_sents)"
   ]
  },
  {
   "cell_type": "code",
   "execution_count": 71,
   "id": "5161d5be",
   "metadata": {},
   "outputs": [],
   "source": [
    "test_tags = [tag for sent in brown.sents(categories='editorial')\n",
    "    for (word, tag) in t2.tag(sent)]"
   ]
  },
  {
   "cell_type": "code",
   "execution_count": 72,
   "id": "728e2773",
   "metadata": {},
   "outputs": [],
   "source": [
    "gold_tags = [tag for (word, tag) in brown.tagged_words(categories='editorial')]"
   ]
  },
  {
   "cell_type": "code",
   "execution_count": 74,
   "id": "bd7e3180",
   "metadata": {},
   "outputs": [
    {
     "data": {
      "text/plain": [
       "<ConfusionMatrix: 52073/61604 correct>"
      ]
     },
     "execution_count": 74,
     "metadata": {},
     "output_type": "execute_result"
    }
   ],
   "source": [
    "nltk.ConfusionMatrix(gold_tags, test_tags)"
   ]
  },
  {
   "cell_type": "code",
   "execution_count": 75,
   "id": "d3d3d7d9",
   "metadata": {},
   "outputs": [
    {
     "data": {
      "text/plain": [
       "['NN-TL',\n",
       " 'NN',\n",
       " 'VBD',\n",
       " 'AP',\n",
       " 'JJ',\n",
       " 'AT',\n",
       " 'JJ-TL',\n",
       " 'NN-TL',\n",
       " ',',\n",
       " 'WDT',\n",
       " 'NN',\n",
       " 'NR',\n",
       " ',',\n",
       " 'HVZ',\n",
       " 'VBD',\n",
       " 'IN',\n",
       " 'AT',\n",
       " 'NN',\n",
       " 'IN',\n",
       " 'NN',\n",
       " 'CC',\n",
       " 'NN',\n",
       " 'IN',\n",
       " 'AT',\n",
       " 'NN',\n",
       " 'PPS',\n",
       " 'NN',\n",
       " '.',\n",
       " 'PPS',\n",
       " 'BEDZ',\n",
       " 'VBN',\n",
       " 'RB',\n",
       " 'IN',\n",
       " 'AT',\n",
       " 'NN',\n",
       " 'IN',\n",
       " 'AT',\n",
       " 'NNS',\n",
       " ',',\n",
       " 'AT',\n",
       " 'NN',\n",
       " 'WDT',\n",
       " 'BEDZ',\n",
       " 'VBN',\n",
       " 'RB',\n",
       " 'IN',\n",
       " 'NN',\n",
       " 'IN',\n",
       " 'AT',\n",
       " 'NN',\n",
       " 'IN',\n",
       " 'AT',\n",
       " 'NN',\n",
       " '*',\n",
       " 'TO',\n",
       " 'VB',\n",
       " 'NN',\n",
       " 'JJ',\n",
       " 'NN',\n",
       " '.',\n",
       " 'EX',\n",
       " 'VBN',\n",
       " 'AT',\n",
       " 'JJ',\n",
       " 'NNS',\n",
       " 'CC',\n",
       " 'NN',\n",
       " 'NN',\n",
       " ',',\n",
       " 'IN',\n",
       " 'WDT',\n",
       " 'AT',\n",
       " 'JJ-TL',\n",
       " 'NN-TL',\n",
       " 'VBD',\n",
       " 'TO',\n",
       " 'NN',\n",
       " 'NN',\n",
       " 'NNS',\n",
       " '.',\n",
       " 'AT',\n",
       " 'JJ',\n",
       " 'NN',\n",
       " 'VBD',\n",
       " 'TO',\n",
       " 'AT',\n",
       " 'NN',\n",
       " 'CC',\n",
       " 'AT',\n",
       " 'NN',\n",
       " 'HVZ',\n",
       " 'BEN',\n",
       " 'VBD',\n",
       " 'IN',\n",
       " 'VBG',\n",
       " 'NN',\n",
       " 'NNS',\n",
       " 'CC',\n",
       " 'TO',\n",
       " 'VB',\n",
       " 'NNS',\n",
       " 'NN',\n",
       " 'PPSS',\n",
       " 'VB',\n",
       " '.',\n",
       " 'NN',\n",
       " 'NN',\n",
       " 'IN',\n",
       " 'NNS',\n",
       " 'CC',\n",
       " 'NNS',\n",
       " 'TO',\n",
       " 'VB',\n",
       " 'PPO',\n",
       " 'HV',\n",
       " 'VBN',\n",
       " 'NN',\n",
       " 'CS',\n",
       " 'AT',\n",
       " 'NN',\n",
       " 'IN',\n",
       " 'AT',\n",
       " 'AP',\n",
       " 'AP',\n",
       " 'NNS',\n",
       " 'BEZ',\n",
       " 'TO',\n",
       " 'VB',\n",
       " 'NN',\n",
       " 'NN',\n",
       " '.',\n",
       " 'DT',\n",
       " 'NN',\n",
       " ',',\n",
       " 'IN',\n",
       " 'NN',\n",
       " ',',\n",
       " 'MD',\n",
       " 'HV',\n",
       " 'NN',\n",
       " 'AT',\n",
       " 'JJ',\n",
       " 'NN',\n",
       " 'CD',\n",
       " 'NNS',\n",
       " 'IN',\n",
       " 'RB',\n",
       " '.',\n",
       " 'IN',\n",
       " 'ABN',\n",
       " 'AT',\n",
       " 'NN-HL',\n",
       " ',',\n",
       " 'DTI',\n",
       " 'JJ',\n",
       " 'NN',\n",
       " 'BEDZ',\n",
       " 'VBN',\n",
       " '.',\n",
       " 'DTI',\n",
       " 'AP',\n",
       " 'JJ',\n",
       " 'NNS',\n",
       " 'BED',\n",
       " 'VBD',\n",
       " 'IN',\n",
       " 'AT',\n",
       " 'NN',\n",
       " 'CC',\n",
       " 'NN',\n",
       " 'JJ',\n",
       " 'NN',\n",
       " '.',\n",
       " 'RB',\n",
       " 'ABN',\n",
       " 'MD',\n",
       " 'VB',\n",
       " 'NN',\n",
       " 'IN',\n",
       " 'AT',\n",
       " 'NN',\n",
       " 'NN',\n",
       " 'NN',\n",
       " ',',\n",
       " 'AT',\n",
       " 'NN',\n",
       " 'NNS',\n",
       " ',',\n",
       " 'AT',\n",
       " 'NN',\n",
       " 'IN',\n",
       " 'NN',\n",
       " 'NNS',\n",
       " ',',\n",
       " 'AT',\n",
       " 'NN',\n",
       " 'IN',\n",
       " 'NN',\n",
       " 'VBG',\n",
       " ',',\n",
       " 'NN',\n",
       " 'IN',\n",
       " 'AT',\n",
       " 'NN',\n",
       " 'IN',\n",
       " 'NN',\n",
       " 'IN',\n",
       " 'NN',\n",
       " 'IN',\n",
       " 'NN',\n",
       " 'NNS',\n",
       " 'IN',\n",
       " 'NNS',\n",
       " 'IN',\n",
       " 'AT',\n",
       " 'AP',\n",
       " 'NN',\n",
       " 'CS',\n",
       " 'IN',\n",
       " 'NN',\n",
       " 'NN',\n",
       " ',',\n",
       " 'NN',\n",
       " 'IN',\n",
       " 'AT',\n",
       " 'NN',\n",
       " 'NN',\n",
       " 'NN',\n",
       " 'NN',\n",
       " 'CC',\n",
       " 'AT',\n",
       " 'NN',\n",
       " 'NN',\n",
       " 'NN',\n",
       " 'NN',\n",
       " '.',\n",
       " 'AT',\n",
       " 'NN',\n",
       " 'HVZ',\n",
       " 'BEN',\n",
       " 'VBN',\n",
       " ',',\n",
       " 'WRB',\n",
       " ',',\n",
       " 'IN',\n",
       " 'JJ',\n",
       " 'JJ',\n",
       " 'NNS',\n",
       " 'CS',\n",
       " 'VBG',\n",
       " 'AT',\n",
       " 'NN',\n",
       " 'NN',\n",
       " ',',\n",
       " 'NN',\n",
       " 'NN',\n",
       " ',',\n",
       " 'NN',\n",
       " 'IN',\n",
       " 'AT',\n",
       " 'NN',\n",
       " 'NN',\n",
       " 'NN',\n",
       " 'CC',\n",
       " 'IN',\n",
       " 'RB',\n",
       " 'NN',\n",
       " 'IN',\n",
       " 'NN',\n",
       " 'NNS',\n",
       " '.',\n",
       " 'RB',\n",
       " 'AT',\n",
       " 'JJ',\n",
       " 'NN',\n",
       " 'BEDZ',\n",
       " 'VBN',\n",
       " 'IN',\n",
       " 'VBG',\n",
       " 'AT',\n",
       " 'NN',\n",
       " 'NN',\n",
       " 'NN',\n",
       " 'CC',\n",
       " 'PP$',\n",
       " 'NN',\n",
       " 'NN',\n",
       " 'IN',\n",
       " 'NN',\n",
       " 'NN',\n",
       " 'TO',\n",
       " 'AT',\n",
       " 'NN',\n",
       " '.',\n",
       " 'AT',\n",
       " 'NN',\n",
       " 'VBN',\n",
       " 'QL',\n",
       " 'IN',\n",
       " 'PP$',\n",
       " 'NN',\n",
       " 'IN',\n",
       " 'AT',\n",
       " 'NNS',\n",
       " 'CC',\n",
       " 'NNS',\n",
       " 'NNS',\n",
       " '.',\n",
       " 'NN',\n",
       " 'PPS',\n",
       " 'NN',\n",
       " 'PPO',\n",
       " 'IN',\n",
       " 'AT',\n",
       " 'JJ',\n",
       " 'NN',\n",
       " 'IN',\n",
       " 'JJ',\n",
       " 'NN',\n",
       " 'WDT',\n",
       " 'IN',\n",
       " 'AT',\n",
       " 'NN',\n",
       " 'HV',\n",
       " 'VBN',\n",
       " 'NP',\n",
       " 'VB',\n",
       " 'CS',\n",
       " 'PN',\n",
       " 'IN',\n",
       " '``',\n",
       " 'AT',\n",
       " 'NN',\n",
       " 'NN',\n",
       " 'IN',\n",
       " 'AT',\n",
       " 'JJ-TL',\n",
       " \"''\",\n",
       " '.',\n",
       " 'PPSS',\n",
       " 'NN',\n",
       " 'AT',\n",
       " 'JJ',\n",
       " 'NN',\n",
       " 'IN',\n",
       " 'PP$',\n",
       " 'NN',\n",
       " 'IN',\n",
       " 'JJ',\n",
       " 'NN',\n",
       " '.',\n",
       " 'IN',\n",
       " 'AT',\n",
       " 'NN',\n",
       " 'IN',\n",
       " 'RB',\n",
       " 'CC',\n",
       " 'AP',\n",
       " 'NN',\n",
       " ',',\n",
       " 'PPSS',\n",
       " 'NN',\n",
       " 'AT',\n",
       " 'NN-TL',\n",
       " 'CC',\n",
       " 'NN-TL',\n",
       " 'MD',\n",
       " 'VB',\n",
       " 'PP$',\n",
       " 'NNS',\n",
       " 'TO',\n",
       " 'VBG',\n",
       " 'NP$',\n",
       " 'QL',\n",
       " 'QL',\n",
       " 'JJ',\n",
       " ',',\n",
       " 'JJ',\n",
       " 'CC',\n",
       " 'JJ',\n",
       " 'NNS',\n",
       " 'CC',\n",
       " 'VB',\n",
       " 'RP',\n",
       " 'IN',\n",
       " 'NN',\n",
       " 'IN',\n",
       " 'ABN',\n",
       " 'AT',\n",
       " 'JJ',\n",
       " 'NNS',\n",
       " '.',\n",
       " 'NN-TL',\n",
       " 'RB',\n",
       " 'VBZ',\n",
       " 'IN',\n",
       " 'AT',\n",
       " 'NN',\n",
       " 'IN',\n",
       " 'JJ',\n",
       " 'AT',\n",
       " 'NN-TL',\n",
       " 'IN-TL',\n",
       " 'NNS-TL',\n",
       " 'NNS',\n",
       " ',',\n",
       " 'CD',\n",
       " 'RB',\n",
       " 'CC',\n",
       " 'VBG',\n",
       " 'PPO',\n",
       " 'NN',\n",
       " ',',\n",
       " 'BEZ',\n",
       " 'JJ',\n",
       " 'JJ',\n",
       " 'NNS',\n",
       " 'IN',\n",
       " 'AT',\n",
       " 'NN',\n",
       " 'IN',\n",
       " 'PP$',\n",
       " 'NN',\n",
       " 'NN',\n",
       " '.',\n",
       " 'PPS+BEZ',\n",
       " 'AT',\n",
       " 'JJ',\n",
       " 'NN',\n",
       " 'IN',\n",
       " 'NN',\n",
       " '.',\n",
       " 'DTS',\n",
       " 'NNS',\n",
       " 'WP$',\n",
       " 'NN',\n",
       " 'VBD',\n",
       " 'RP',\n",
       " 'IN',\n",
       " 'AT',\n",
       " 'JJ',\n",
       " 'NN',\n",
       " 'NN',\n",
       " 'BER',\n",
       " 'VBN',\n",
       " 'TO',\n",
       " 'NP',\n",
       " 'NN',\n",
       " 'NN',\n",
       " 'CS',\n",
       " 'CD',\n",
       " 'MD',\n",
       " 'NN',\n",
       " 'AT',\n",
       " 'NNS$',\n",
       " 'NN',\n",
       " 'CC',\n",
       " '``',\n",
       " 'NN',\n",
       " 'JJ',\n",
       " 'PP$',\n",
       " 'NN',\n",
       " \"''\",\n",
       " '.',\n",
       " '``',\n",
       " 'CS',\n",
       " 'RB',\n",
       " 'PPSS',\n",
       " 'VBN',\n",
       " 'NN',\n",
       " 'TO',\n",
       " 'AT',\n",
       " 'JJ',\n",
       " 'NNS',\n",
       " \"''\",\n",
       " ',',\n",
       " 'NP',\n",
       " 'VBD',\n",
       " ',',\n",
       " '``',\n",
       " 'PPSS',\n",
       " 'CC',\n",
       " 'PPSS',\n",
       " ',',\n",
       " 'CC',\n",
       " 'NP',\n",
       " 'CC',\n",
       " 'NNS',\n",
       " ',',\n",
       " 'NNS',\n",
       " 'CC',\n",
       " 'NN',\n",
       " ',',\n",
       " 'MD',\n",
       " 'ABN',\n",
       " 'VBN',\n",
       " 'NN',\n",
       " \"''\",\n",
       " '.',\n",
       " 'NN',\n",
       " 'CC',\n",
       " 'NNS',\n",
       " 'RB',\n",
       " 'BER',\n",
       " 'JJ',\n",
       " 'IN',\n",
       " 'AT',\n",
       " 'NN',\n",
       " 'NN',\n",
       " 'CC',\n",
       " 'NN',\n",
       " 'NN',\n",
       " 'AT',\n",
       " 'NN',\n",
       " 'VBZ',\n",
       " 'TO',\n",
       " 'JJ',\n",
       " 'NNS',\n",
       " '.',\n",
       " 'AT',\n",
       " 'NN',\n",
       " 'NNS',\n",
       " 'NN',\n",
       " 'RP',\n",
       " 'AT',\n",
       " 'NNS',\n",
       " 'CC',\n",
       " 'NN',\n",
       " 'IN',\n",
       " 'AT',\n",
       " 'QL',\n",
       " 'JJ',\n",
       " 'NNS',\n",
       " 'CC',\n",
       " 'VB',\n",
       " 'PPO',\n",
       " 'JJ',\n",
       " 'TO',\n",
       " 'AT',\n",
       " 'JJ',\n",
       " '.',\n",
       " 'AT',\n",
       " 'RBR',\n",
       " 'AT',\n",
       " 'NN',\n",
       " ',',\n",
       " 'AT',\n",
       " 'QL',\n",
       " 'JJ',\n",
       " 'AT',\n",
       " 'NN',\n",
       " 'BEZ',\n",
       " 'TO',\n",
       " 'NN',\n",
       " 'IN',\n",
       " '.',\n",
       " 'CC',\n",
       " 'AT',\n",
       " 'NN',\n",
       " 'VBZ',\n",
       " 'AT',\n",
       " 'NN',\n",
       " ',',\n",
       " 'IN',\n",
       " 'JJ',\n",
       " 'NN',\n",
       " ',',\n",
       " 'IN',\n",
       " 'AT',\n",
       " 'NN',\n",
       " 'IN',\n",
       " 'JJ',\n",
       " '.',\n",
       " 'VB',\n",
       " 'TO',\n",
       " 'NN',\n",
       " 'NN-TL',\n",
       " 'IN',\n",
       " 'JJ',\n",
       " 'NN',\n",
       " 'NN',\n",
       " 'CC',\n",
       " 'NNS',\n",
       " 'VBN',\n",
       " 'IN',\n",
       " 'JJ',\n",
       " 'NN',\n",
       " 'MD',\n",
       " 'DO',\n",
       " 'RB',\n",
       " 'IN',\n",
       " 'AT',\n",
       " 'NNS',\n",
       " 'RB',\n",
       " 'IN',\n",
       " 'VB',\n",
       " 'PP$',\n",
       " 'NNS',\n",
       " 'NN',\n",
       " 'IN',\n",
       " 'AT',\n",
       " 'CD',\n",
       " 'NR',\n",
       " 'NP',\n",
       " 'NNS',\n",
       " 'WPS',\n",
       " 'BER',\n",
       " 'NNS',\n",
       " 'IN',\n",
       " 'AT',\n",
       " 'NN',\n",
       " 'NN-TL',\n",
       " 'NN-TL',\n",
       " 'VBG-TL',\n",
       " 'CC-TL',\n",
       " 'NN-TL',\n",
       " 'NN-TL',\n",
       " '.',\n",
       " 'NN',\n",
       " 'PP$',\n",
       " 'JJ',\n",
       " 'NN',\n",
       " 'IN',\n",
       " 'NN',\n",
       " 'IN',\n",
       " 'AT',\n",
       " 'NN',\n",
       " 'NN',\n",
       " 'NN',\n",
       " 'VBN',\n",
       " 'IN',\n",
       " 'NN-TL',\n",
       " 'NP',\n",
       " ',',\n",
       " 'AT',\n",
       " 'NN',\n",
       " 'VBZ',\n",
       " 'TO',\n",
       " 'VB',\n",
       " 'AT',\n",
       " 'NN',\n",
       " 'IN',\n",
       " 'NP',\n",
       " 'IN',\n",
       " 'NP',\n",
       " 'NP',\n",
       " '.',\n",
       " 'RB',\n",
       " 'AT',\n",
       " 'JJ',\n",
       " 'VBG',\n",
       " 'NN',\n",
       " 'MD',\n",
       " 'BE',\n",
       " 'VBN',\n",
       " 'IN',\n",
       " 'NP',\n",
       " 'TO',\n",
       " 'VB',\n",
       " 'IN',\n",
       " 'AT',\n",
       " 'NN',\n",
       " 'NP',\n",
       " 'NP',\n",
       " 'NN',\n",
       " 'NN',\n",
       " 'IN',\n",
       " 'NN',\n",
       " 'IN',\n",
       " 'AT',\n",
       " 'NN',\n",
       " 'NN',\n",
       " 'CC',\n",
       " 'JJ',\n",
       " 'NN',\n",
       " 'NN',\n",
       " '.',\n",
       " 'AT',\n",
       " 'NN',\n",
       " 'HVZ',\n",
       " 'NN',\n",
       " 'NN',\n",
       " '.',\n",
       " 'PPS',\n",
       " 'NN',\n",
       " 'AT',\n",
       " 'NN',\n",
       " 'CS',\n",
       " 'WDT',\n",
       " 'VBZ',\n",
       " 'CD',\n",
       " 'NN',\n",
       " 'VBZ',\n",
       " 'PP$',\n",
       " 'NNS',\n",
       " 'CC',\n",
       " 'CS',\n",
       " 'IN',\n",
       " 'NN',\n",
       " 'RB',\n",
       " 'IN',\n",
       " 'AT',\n",
       " 'NN',\n",
       " 'NN',\n",
       " 'JJR',\n",
       " 'NNS',\n",
       " 'MD',\n",
       " 'BE',\n",
       " 'VBN',\n",
       " 'IN',\n",
       " 'IN',\n",
       " 'AT',\n",
       " 'NN',\n",
       " 'NN',\n",
       " '.',\n",
       " 'NP',\n",
       " 'NN',\n",
       " 'NN',\n",
       " 'VBN-TL',\n",
       " 'NNS-TL',\n",
       " 'NN',\n",
       " 'AT',\n",
       " 'NP',\n",
       " 'NN',\n",
       " 'IN',\n",
       " 'VBN',\n",
       " 'NN',\n",
       " ',',\n",
       " 'NN',\n",
       " 'AT',\n",
       " 'NP',\n",
       " 'NN',\n",
       " 'IN',\n",
       " 'JJ',\n",
       " 'NN',\n",
       " ',',\n",
       " 'NN',\n",
       " 'AT',\n",
       " 'JJ',\n",
       " 'NN',\n",
       " 'CS',\n",
       " 'HVZ',\n",
       " 'VBD',\n",
       " '.',\n",
       " 'AT',\n",
       " 'NN',\n",
       " 'JJ',\n",
       " '*',\n",
       " 'IN',\n",
       " 'VBG',\n",
       " 'CS',\n",
       " 'PP$',\n",
       " 'JJ',\n",
       " 'NN',\n",
       " 'MD',\n",
       " 'NN',\n",
       " 'NP$',\n",
       " 'VB',\n",
       " 'IN',\n",
       " 'NN',\n",
       " '.',\n",
       " '.',\n",
       " 'CS',\n",
       " 'NN',\n",
       " 'BEDZ',\n",
       " 'CC',\n",
       " 'BEZ',\n",
       " 'JJ',\n",
       " '.',\n",
       " 'AT',\n",
       " 'NN',\n",
       " 'JJ',\n",
       " 'IN',\n",
       " 'AT',\n",
       " 'JJ',\n",
       " 'NN',\n",
       " 'CS',\n",
       " 'JJ',\n",
       " 'NN',\n",
       " 'BEDZ',\n",
       " 'AP',\n",
       " '.',\n",
       " 'IN',\n",
       " 'NN',\n",
       " 'JJ',\n",
       " 'NN',\n",
       " 'QL',\n",
       " 'AP',\n",
       " 'TO',\n",
       " 'JJ',\n",
       " 'NN',\n",
       " ',',\n",
       " 'DT',\n",
       " 'NN',\n",
       " 'VBN',\n",
       " 'PP$',\n",
       " 'NN',\n",
       " 'TO',\n",
       " 'VB',\n",
       " 'DTI',\n",
       " 'NN',\n",
       " 'IN',\n",
       " 'NN',\n",
       " 'NN',\n",
       " 'AT',\n",
       " 'JJ',\n",
       " 'NN',\n",
       " '.',\n",
       " 'DT',\n",
       " 'NN',\n",
       " 'VBN',\n",
       " 'AT',\n",
       " 'NN',\n",
       " 'CS',\n",
       " 'PPSS',\n",
       " 'MD',\n",
       " 'HV',\n",
       " 'AT',\n",
       " 'JJ',\n",
       " 'NN',\n",
       " '.',\n",
       " 'PPS',\n",
       " 'RB',\n",
       " 'VBN',\n",
       " 'PP$',\n",
       " 'JJ',\n",
       " 'NN',\n",
       " ',',\n",
       " 'CS',\n",
       " 'NP',\n",
       " 'MD',\n",
       " 'RB',\n",
       " 'NN',\n",
       " 'PPSS',\n",
       " 'DOD',\n",
       " '*',\n",
       " 'NN',\n",
       " 'AT',\n",
       " 'JJ',\n",
       " 'NN',\n",
       " 'IN',\n",
       " 'IN',\n",
       " 'AT',\n",
       " 'JJ',\n",
       " 'NN',\n",
       " '.',\n",
       " 'DT',\n",
       " 'VBD',\n",
       " 'AT',\n",
       " 'NN',\n",
       " 'NN',\n",
       " 'IN',\n",
       " 'NN',\n",
       " 'TO',\n",
       " 'VB',\n",
       " 'NN',\n",
       " 'NN',\n",
       " 'NN',\n",
       " 'IN',\n",
       " 'JJ',\n",
       " 'NN',\n",
       " '.',\n",
       " 'IN',\n",
       " 'VBG',\n",
       " 'AT',\n",
       " 'JJ',\n",
       " 'NN',\n",
       " ',',\n",
       " 'CC',\n",
       " 'NN',\n",
       " 'JJ',\n",
       " 'JJ',\n",
       " 'NNS',\n",
       " 'TO',\n",
       " 'VB',\n",
       " 'JJ',\n",
       " 'NN',\n",
       " 'QL',\n",
       " ',',\n",
       " 'NN-TL',\n",
       " 'IN-TL',\n",
       " 'NN-TL',\n",
       " 'NP',\n",
       " 'NN',\n",
       " 'NN',\n",
       " 'CC',\n",
       " 'JJ',\n",
       " 'NN',\n",
       " 'CC',\n",
       " 'NN',\n",
       " 'AP',\n",
       " 'NN',\n",
       " 'CC',\n",
       " 'JJR',\n",
       " 'NN',\n",
       " 'IN',\n",
       " 'PP$',\n",
       " 'JJ',\n",
       " 'NN',\n",
       " '.',\n",
       " 'NN',\n",
       " 'NN',\n",
       " 'NNS',\n",
       " 'NN',\n",
       " 'BEZ',\n",
       " 'IN',\n",
       " 'NN',\n",
       " 'NN',\n",
       " 'NN',\n",
       " 'IN',\n",
       " 'CD',\n",
       " 'BEZ',\n",
       " 'AT',\n",
       " 'NN',\n",
       " 'CD',\n",
       " 'CC',\n",
       " 'VBZ',\n",
       " 'IN',\n",
       " 'PPO',\n",
       " 'AT',\n",
       " 'NN',\n",
       " 'IN',\n",
       " 'AT',\n",
       " 'NN',\n",
       " 'NN',\n",
       " 'TO',\n",
       " 'VB',\n",
       " 'PPO',\n",
       " 'NN',\n",
       " '.',\n",
       " 'PPS',\n",
       " 'VBZ',\n",
       " 'AT',\n",
       " 'VB',\n",
       " 'IN',\n",
       " 'AT',\n",
       " 'NN',\n",
       " 'NN',\n",
       " 'NN',\n",
       " ',',\n",
       " 'NN',\n",
       " 'IN',\n",
       " 'AP',\n",
       " 'JJ',\n",
       " 'NNS',\n",
       " 'IN',\n",
       " 'AT',\n",
       " 'NN',\n",
       " 'NN',\n",
       " ',',\n",
       " 'VBG',\n",
       " 'IN',\n",
       " 'NN',\n",
       " 'JJ',\n",
       " 'NN',\n",
       " 'NNS',\n",
       " ',',\n",
       " 'CC',\n",
       " 'VBN',\n",
       " 'NNS',\n",
       " 'IN',\n",
       " 'JJ',\n",
       " 'NNS',\n",
       " 'JJ',\n",
       " 'CS',\n",
       " 'NN',\n",
       " 'CC',\n",
       " 'NN',\n",
       " ',',\n",
       " 'NN',\n",
       " 'NN',\n",
       " ',',\n",
       " 'NN',\n",
       " 'CC',\n",
       " 'NN',\n",
       " 'NN',\n",
       " '.',\n",
       " 'DT',\n",
       " 'JJ',\n",
       " 'NN',\n",
       " 'MD',\n",
       " 'BE',\n",
       " 'VBN',\n",
       " 'IN',\n",
       " 'AT',\n",
       " 'VB',\n",
       " 'IN',\n",
       " 'NNS',\n",
       " 'BEZ',\n",
       " 'JJ',\n",
       " 'TO',\n",
       " 'NN',\n",
       " 'IN',\n",
       " 'AT',\n",
       " 'NN',\n",
       " 'NN',\n",
       " 'CC',\n",
       " 'JJ',\n",
       " 'JJ',\n",
       " 'VBG',\n",
       " ...]"
      ]
     },
     "execution_count": 75,
     "metadata": {},
     "output_type": "execute_result"
    }
   ],
   "source": [
    "test_tags"
   ]
  },
  {
   "cell_type": "code",
   "execution_count": null,
   "id": "fd4ddc10",
   "metadata": {},
   "outputs": [],
   "source": []
  }
 ],
 "metadata": {
  "kernelspec": {
   "display_name": "Python 3 (ipykernel)",
   "language": "python",
   "name": "python3"
  },
  "language_info": {
   "codemirror_mode": {
    "name": "ipython",
    "version": 3
   },
   "file_extension": ".py",
   "mimetype": "text/x-python",
   "name": "python",
   "nbconvert_exporter": "python",
   "pygments_lexer": "ipython3",
   "version": "3.11.5"
  }
 },
 "nbformat": 4,
 "nbformat_minor": 5
}
