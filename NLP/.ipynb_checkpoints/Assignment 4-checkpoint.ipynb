{
 "cells": [
  {
   "cell_type": "code",
   "execution_count": 1,
   "id": "1fd499e0",
   "metadata": {},
   "outputs": [],
   "source": [
    "import re\n",
    "import nltk\n",
    "from nltk import sem\n",
    "from nltk.corpus import ieer\n",
    "from nltk.sem import relextract"
   ]
  },
  {
   "cell_type": "code",
   "execution_count": 2,
   "id": "0a1fae80",
   "metadata": {},
   "outputs": [],
   "source": [
    "roles = r\"\"\"\n",
    "... (.*(\n",
    "... analyst|\n",
    "... chair(wo)?man|\n",
    "... commissioner|\n",
    "... counsel|\n",
    "... director|\n",
    "... economist|\n",
    "... editor|\n",
    "... executive|\n",
    "... foreman|\n",
    "... governor|\n",
    "... head|\n",
    "... lawyer|\n",
    "... leader|\n",
    "... librarian).*)|\n",
    "... manager|\n",
    "... partner|\n",
    "... president|\n",
    "... producer|\n",
    "... professor|\n",
    "... researcher|\n",
    "... spokes(wo)?man|\n",
    "... spokesperson|\n",
    "... writer|\n",
    "... ,\\sof\\sthe?\\s*  # \"X, of (the) Y\"\n",
    "... \"\"\"\n",
    "ROLES = re.compile(roles, re.VERBOSE)"
   ]
  },
  {
   "cell_type": "code",
   "execution_count": 3,
   "id": "e7fc1eaf",
   "metadata": {
    "scrolled": true
   },
   "outputs": [
    {
     "name": "stdout",
     "output_type": "stream",
     "text": [
      "[PER: 'Kivutha Kibwana'] ', of the' [ORG: 'National Convention Assembly']\n",
      "[PER: 'Boban Boskovic'] ', chief executive of the' [ORG: 'Plastika']\n",
      "[PER: 'Annan'] ', the first sub-Saharan African to head the' [ORG: 'United Nations']\n",
      "[PER: 'Kiriyenko'] 'became a foreman at the' [ORG: 'Krasnoye Sormovo']\n",
      "[PER: 'Annan'] ', the first sub-Saharan African to head the' [ORG: 'United Nations']\n",
      "[PER: 'Mike Godwin'] ', chief counsel for the' [ORG: 'Electronic Frontier Foundation']\n",
      "[PER: 'Robert Mergess'] ', the co-director of the' [ORG: 'Berkeley Center for Law and Technology']\n",
      "[PER: 'Jack Balkin'] \", director of the school's program. ``What happened at\" [ORG: 'Yale']\n",
      "[PER: 'William Gale'] ', an economist at the' [ORG: 'Brookings Institution']\n",
      "[PER: 'Joel Slemrod'] ', an economist at the' [ORG: 'University of Michigan']\n",
      "[PER: 'Alan Braverman'] ', Internet analyst at' [ORG: 'Credit Suisse First Boston']\n",
      "[PER: 'Michael Coffey'] ', managing editor of' [ORG: 'Publishers Weekly']\n",
      "[PER: 'Lorne Michaels'] \", the executive producer of ``Saturday Night Live.''\" [ORG: 'TV Books']\n",
      "[PER: 'James Billington'] ', the librarian of' [ORG: 'Congress']\n",
      "[PER: 'Sherry Lansing'] ', chairwoman of the' [ORG: 'Paramount Motion Picture Group']\n",
      "[PER: 'Charlotte Forest'] ', executive producer for' [ORG: 'Homestead Editorial']\n",
      "[PER: 'John Wren'] ', the president and chief executive at' [ORG: 'Omnicom']\n",
      "[PER: 'Charlie Moss'] ', the chairman of' [ORG: 'Moss/Dragoti']\n",
      "[PER: 'Norio Ohga'] ', chairman of the' [ORG: 'Sony Corporation']\n",
      "[PER: 'Wendy Beale Needham'] ', an auto analyst at' [ORG: 'Donaldson, Lufkin &AMP; Jenrette']\n",
      "[PER: 'David Bradley'] ', an auto analyst at' [ORG: 'J.P. Morgan Securities Inc.']\n",
      "[PER: 'Michael W. McCarthy'] ', a former chairman of' [ORG: 'Merrill Lynch &AMP; Co.']\n",
      "[PER: 'McCarthy'] 'was a governor of the' [ORG: 'American Stock Exchange']\n",
      "[PER: 'Anthony Chan'] ', managing director and chief economist at the' [ORG: 'Banc One Investment Advisors Corp.']\n",
      "[PER: 'Paul Volcker'] ', former chairman of the' [ORG: 'U.S. Federal Reserve']\n",
      "[PER: 'Katherine Abraham'] ', commissioner of the' [ORG: 'Bureau of Labor Statistics']\n",
      "[PER: 'David Wyss'] ', chief economist at' [ORG: \"Standard &AMP; Poor's DRI\"]\n",
      "[PER: 'Bruce Steinberg'] ', chief economist at' [ORG: 'Merrill Lynch']\n",
      "[PER: 'Mitchell Fromstein'] ', head of' [ORG: 'Manpower Inc.']\n",
      "[PER: 'Barry Travis'] ', executive director of the' [ORG: 'Little Rock Convention and Visitors Bureau']\n",
      "[PER: 'Pamela Bethel'] ', a lawyer for' [ORG: 'Kramerbooks']\n",
      "[PER: 'Walter'] ', who now heads the' [ORG: 'Waterford Foundation']\n",
      "[PER: 'Alan Horn'] ', the chairman of' [ORG: 'Castle Rock Entertainment']\n",
      "[PER: 'Dan Morgenstern'] ', director of the' [ORG: 'Institute of Jazz Studies']\n",
      "[PER: 'Robert Schelin'] ', acting managing director of' [ORG: 'Smithsonian Press/Smithsonian Productions']\n",
      "[PER: 'Peter Cannell'] ', director of the' [ORG: 'Smithsonian Institution Press']\n",
      "[PER: 'Trimble'] ', the leader of the Protestant' [ORG: 'Ulster Unionist Party']\n",
      "[PER: 'Seamus Mallon'] ', deputy leader of the' [ORG: 'Social Democrats']\n",
      "[PER: 'Alexander Shokhin'] ', the parliamentary leader of' [ORG: 'Our Home Is Russia']\n",
      "[PER: 'Yegor Stroyev'] ', the head of the' [ORG: 'upper house']\n"
     ]
    }
   ],
   "source": [
    "for fileid in ieer.fileids():\n",
    "    for doc in ieer.parsed_docs(fileid):\n",
    "        for rel in relextract.extract_rels('PER', 'ORG', doc, corpus='ieer', pattern = ROLES):\n",
    "            print(relextract.rtuple(rel))"
   ]
  },
  {
   "cell_type": "code",
   "execution_count": 37,
   "id": "0116e98c",
   "metadata": {},
   "outputs": [],
   "source": [
    "grammar = r\"\"\"\n",
    "    DT: {<DT>} \n",
    "    JJ: {<JJ>} \n",
    "    N: {<NN.*>}\n",
    "    VP: {<VB.*><NP|PP|CLAUSE>+$}\n",
    "    S: {<NP><VP>}\n",
    "\"\"\""
   ]
  },
  {
   "cell_type": "code",
   "execution_count": 38,
   "id": "673705c8",
   "metadata": {},
   "outputs": [],
   "source": [
    "parser = nltk.RegexpParser(grammar)\n",
    "parser_deep = nltk.RegexpParser(grammar, loop = 2)"
   ]
  },
  {
   "cell_type": "code",
   "execution_count": 39,
   "id": "6b10cfc7",
   "metadata": {},
   "outputs": [],
   "source": [
    "sent1 = \"The quick brown fox jumps over the lazy dog.\"\n",
    "tokens1 = nltk.word_tokenize(sent1)\n",
    "sent2 = \"The energetic young children, after devouring a plate of delicious chocolate chip cookies, eagerly raced outside.\"\n",
    "tokens2 = nltk.word_tokenize(sent2)"
   ]
  },
  {
   "cell_type": "code",
   "execution_count": 40,
   "id": "93727e09",
   "metadata": {},
   "outputs": [],
   "source": [
    "tagg1 = nltk.pos_tag(tokens1)\n",
    "tagg2 = nltk.pos_tag(tokens2)"
   ]
  },
  {
   "cell_type": "code",
   "execution_count": 41,
   "id": "22442b44",
   "metadata": {},
   "outputs": [
    {
     "name": "stdout",
     "output_type": "stream",
     "text": [
      "(S\n",
      "  (DT The/DT)\n",
      "  (JJ quick/JJ)\n",
      "  (N brown/NN)\n",
      "  (N fox/NN)\n",
      "  jumps/VBZ\n",
      "  over/IN\n",
      "  (DT the/DT)\n",
      "  (JJ lazy/JJ)\n",
      "  (N dog/NN)\n",
      "  ./.)\n"
     ]
    }
   ],
   "source": [
    "chunks = parser.parse(tagg1)\n",
    "print(chunks)"
   ]
  },
  {
   "cell_type": "code",
   "execution_count": 42,
   "id": "73abbd47",
   "metadata": {},
   "outputs": [
    {
     "name": "stdout",
     "output_type": "stream",
     "text": [
      "(S\n",
      "  (DT The/DT)\n",
      "  (JJ quick/JJ)\n",
      "  (N brown/NN)\n",
      "  (N fox/NN)\n",
      "  jumps/VBZ\n",
      "  over/IN\n",
      "  (DT the/DT)\n",
      "  (JJ lazy/JJ)\n",
      "  (N dog/NN)\n",
      "  ./.)\n"
     ]
    }
   ],
   "source": [
    "chunks_deep = parser.parse(tagg1)\n",
    "print(chunks_deep)"
   ]
  },
  {
   "cell_type": "code",
   "execution_count": 43,
   "id": "3df50d06",
   "metadata": {},
   "outputs": [
    {
     "name": "stdout",
     "output_type": "stream",
     "text": [
      "(S\n",
      "  (DT The/DT)\n",
      "  (JJ energetic/JJ)\n",
      "  (JJ young/JJ)\n",
      "  (N children/NNS)\n",
      "  ,/,\n",
      "  after/IN\n",
      "  devouring/VBG\n",
      "  (DT a/DT)\n",
      "  (N plate/NN)\n",
      "  of/IN\n",
      "  (JJ delicious/JJ)\n",
      "  (N chocolate/NN)\n",
      "  (N chip/NN)\n",
      "  (N cookies/NNS)\n",
      "  ,/,\n",
      "  eagerly/RB\n",
      "  raced/VBD\n",
      "  (JJ outside/JJ)\n",
      "  ./.)\n"
     ]
    }
   ],
   "source": [
    "chunks = parser.parse(tagg2)\n",
    "print(chunks)"
   ]
  },
  {
   "cell_type": "code",
   "execution_count": 17,
   "id": "2a4f71a6",
   "metadata": {},
   "outputs": [
    {
     "name": "stdout",
     "output_type": "stream",
     "text": [
      "(S\n",
      "  (DT The/DT)\n",
      "  (JJ energetic/JJ)\n",
      "  (JJ young/JJ)\n",
      "  (N children/NNS)\n",
      "  ,/,\n",
      "  after/IN\n",
      "  devouring/VBG\n",
      "  (DT a/DT)\n",
      "  (N plate/NN)\n",
      "  of/IN\n",
      "  (JJ delicious/JJ)\n",
      "  (N chocolate/NN)\n",
      "  (N chip/NN)\n",
      "  (N cookies/NNS)\n",
      "  ,/,\n",
      "  eagerly/RB\n",
      "  raced/VBD\n",
      "  outside/IN\n",
      "  to/TO\n",
      "  play/VB\n",
      "  in/IN\n",
      "  (DT the/DT)\n",
      "  (N vibrant/NN)\n",
      "  (JJ green/JJ)\n",
      "  (N park/NN)\n",
      "  across/IN\n",
      "  (DT the/DT)\n",
      "  (N street/NN)\n",
      "  ./.)\n"
     ]
    }
   ],
   "source": [
    "chunks_deep = parser.parse(tagg2)\n",
    "print(chunks_deep)"
   ]
  },
  {
   "cell_type": "code",
   "execution_count": null,
   "id": "52fa941b",
   "metadata": {},
   "outputs": [],
   "source": []
  }
 ],
 "metadata": {
  "kernelspec": {
   "display_name": "Python 3 (ipykernel)",
   "language": "python",
   "name": "python3"
  },
  "language_info": {
   "codemirror_mode": {
    "name": "ipython",
    "version": 3
   },
   "file_extension": ".py",
   "mimetype": "text/x-python",
   "name": "python",
   "nbconvert_exporter": "python",
   "pygments_lexer": "ipython3",
   "version": "3.11.5"
  }
 },
 "nbformat": 4,
 "nbformat_minor": 5
}
