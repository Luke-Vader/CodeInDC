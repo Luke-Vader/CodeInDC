{
 "cells": [
  {
   "cell_type": "code",
   "execution_count": 2,
   "id": "193358d0",
   "metadata": {},
   "outputs": [],
   "source": [
    "import nltk"
   ]
  },
  {
   "cell_type": "code",
   "execution_count": 3,
   "id": "9b6f807e",
   "metadata": {},
   "outputs": [
    {
     "name": "stderr",
     "output_type": "stream",
     "text": [
      "[nltk_data] Downloading package wordnet to\n",
      "[nltk_data]     /Users/rishabhbanerjee/nltk_data...\n",
      "[nltk_data]   Package wordnet is already up-to-date!\n"
     ]
    }
   ],
   "source": [
    "nltk.download('wordnet')\n",
    "from nltk.corpus import wordnet as wn"
   ]
  },
  {
   "cell_type": "code",
   "execution_count": 4,
   "id": "808b9569",
   "metadata": {},
   "outputs": [],
   "source": [
    "synsets = wn.synsets(\"woods\")"
   ]
  },
  {
   "cell_type": "code",
   "execution_count": 5,
   "id": "e8964404",
   "metadata": {},
   "outputs": [
    {
     "name": "stdout",
     "output_type": "stream",
     "text": [
      "forest.n.01\n",
      "wood.n.01\n",
      "forest.n.01\n",
      "wood.n.03\n",
      "wood.n.04\n",
      "wood.n.05\n",
      "wood.n.06\n",
      "woodwind.n.01\n",
      "wood.n.08\n"
     ]
    }
   ],
   "source": [
    "for synset in synsets:\n",
    "    print(synset.name())"
   ]
  },
  {
   "cell_type": "code",
   "execution_count": 6,
   "id": "559082bf",
   "metadata": {},
   "outputs": [
    {
     "name": "stdout",
     "output_type": "stream",
     "text": [
      "forest\n",
      "wood\n",
      "woods\n",
      "wood\n",
      "forest\n",
      "wood\n",
      "woods\n",
      "Wood\n",
      "Natalie_Wood\n",
      "Wood\n",
      "Sir_Henry_Wood\n",
      "Sir_Henry_Joseph_Wood\n",
      "Wood\n",
      "Mrs._Henry_Wood\n",
      "Ellen_Price_Wood\n",
      "Wood\n",
      "Grant_Wood\n",
      "woodwind\n",
      "woodwind_instrument\n",
      "wood\n",
      "wood\n"
     ]
    }
   ],
   "source": [
    "for synset in synsets:\n",
    "    lemmas = synset.lemmas()\n",
    "\n",
    "    for lemma in lemmas:        print(lemma.name())"
   ]
  },
  {
   "cell_type": "code",
   "execution_count": 7,
   "id": "68c94eaf",
   "metadata": {
    "scrolled": true
   },
   "outputs": [
    {
     "name": "stdout",
     "output_type": "stream",
     "text": [
      "alder.n.01\n",
      "ash.n.03\n",
      "balsa.n.01\n",
      "bamboo.n.01\n",
      "basswood.n.01\n",
      "beech.n.02\n",
      "beefwood.n.02\n",
      "bentwood.n.01\n",
      "birch.n.01\n",
      "black_locust.n.01\n",
      "blackwood.n.01\n",
      "boxwood.n.01\n",
      "brazilwood.n.01\n",
      "briarwood.n.01\n",
      "brushwood.n.01\n",
      "burl.n.01\n",
      "cabinet_wood.n.01\n",
      "cedar.n.02\n",
      "cherry.n.01\n",
      "chestnut.n.01\n",
      "citronwood.n.01\n",
      "cocuswood.n.01\n",
      "cypress.n.01\n",
      "dogwood.n.02\n",
      "driftwood.n.01\n",
      "dyewood.n.01\n",
      "ebony.n.02\n",
      "elm.n.02\n",
      "eucalyptus.n.01\n",
      "fir.n.01\n",
      "fruitwood.n.01\n",
      "granadilla_wood.n.01\n",
      "guaiac_wood.n.01\n",
      "gumwood.n.01\n",
      "hardwood.n.01\n",
      "hazel.n.02\n",
      "heartwood.n.01\n",
      "hemlock.n.03\n",
      "hickory.n.01\n",
      "incense_wood.n.01\n",
      "ironwood.n.02\n",
      "kauri.n.03\n",
      "kingwood.n.01\n",
      "knot.n.03\n",
      "lancewood.n.01\n",
      "larch.n.01\n",
      "lemonwood.n.01\n",
      "lignum_vitae.n.01\n",
      "locust.n.02\n",
      "log.n.01\n",
      "logwood.n.01\n",
      "mahogany.n.01\n",
      "maple.n.01\n",
      "matchwood.n.01\n",
      "matchwood.n.02\n",
      "oak.n.01\n",
      "obeche.n.01\n",
      "olive.n.03\n",
      "orangewood.n.01\n",
      "panama_redwood.n.01\n",
      "pecan.n.01\n",
      "pine.n.02\n",
      "poon.n.01\n",
      "poplar.n.01\n",
      "pyinma.n.01\n",
      "raw_wood.n.01\n",
      "red_lauan.n.01\n",
      "redwood.n.01\n",
      "rosewood.n.01\n",
      "ruby_wood.n.01\n",
      "sabicu.n.01\n",
      "sandalwood.n.01\n",
      "sandarac.n.01\n",
      "sapwood.n.01\n",
      "satinwood.n.02\n",
      "sawdust.n.01\n",
      "shittimwood.n.03\n",
      "silver_quandong.n.01\n",
      "softwood.n.01\n",
      "spruce.n.01\n",
      "sumac.n.01\n",
      "sycamore.n.01\n",
      "teak.n.01\n",
      "tulipwood.n.01\n",
      "tulipwood.n.02\n",
      "tupelo.n.01\n",
      "walnut.n.02\n",
      "wicker.n.01\n",
      "yellowwood.n.01\n",
      "yew.n.01\n",
      "zebrawood.n.01\n"
     ]
    }
   ],
   "source": [
    "synset = wn.synsets(\"wood\", pos=wn.NOUN)[0]\n",
    "hyponyms = synset.hyponyms()\n",
    "\n",
    "for hyponym in hyponyms:\n",
    "    print(hyponym.name())"
   ]
  },
  {
   "cell_type": "code",
   "execution_count": 8,
   "id": "bfa640b4",
   "metadata": {},
   "outputs": [
    {
     "name": "stdout",
     "output_type": "stream",
     "text": [
      "plant_material.n.01\n"
     ]
    }
   ],
   "source": [
    "hypernyms = synset.hypernyms()\n",
    "\n",
    "for hypernym in hypernyms:\n",
    "    print(hypernym.name())"
   ]
  },
  {
   "cell_type": "code",
   "execution_count": 9,
   "id": "c4fc39e3",
   "metadata": {
    "scrolled": true
   },
   "outputs": [
    {
     "name": "stdout",
     "output_type": "stream",
     "text": [
      "the hard fibrous lignified substance under the bark of trees\n"
     ]
    }
   ],
   "source": [
    "definition = synset.definition()\n",
    "\n",
    "print(definition)"
   ]
  },
  {
   "cell_type": "code",
   "execution_count": 19,
   "id": "ee543791",
   "metadata": {},
   "outputs": [
    {
     "ename": "IndexError",
     "evalue": "list index out of range",
     "output_type": "error",
     "traceback": [
      "\u001b[0;31m---------------------------------------------------------------------------\u001b[0m",
      "\u001b[0;31mIndexError\u001b[0m                                Traceback (most recent call last)",
      "Cell \u001b[0;32mIn[19], line 3\u001b[0m\n\u001b[1;32m      1\u001b[0m words \u001b[38;5;241m=\u001b[39m [\u001b[38;5;124m\"\u001b[39m\u001b[38;5;124mtulipwood.n.01\u001b[39m\u001b[38;5;124m\"\u001b[39m, \u001b[38;5;124m\"\u001b[39m\u001b[38;5;124mzebrawood.n.01\u001b[39m\u001b[38;5;124m\"\u001b[39m, \u001b[38;5;124m\"\u001b[39m\u001b[38;5;124msatinwood.n.02\u001b[39m\u001b[38;5;124m\"\u001b[39m]\n\u001b[0;32m----> 3\u001b[0m synsets \u001b[38;5;241m=\u001b[39m [wn\u001b[38;5;241m.\u001b[39msynsets(word)[\u001b[38;5;241m0\u001b[39m] \u001b[38;5;28;01mfor\u001b[39;00m word \u001b[38;5;129;01min\u001b[39;00m words]\n\u001b[1;32m      4\u001b[0m nearest_hypernyms \u001b[38;5;241m=\u001b[39m []\n\u001b[1;32m      5\u001b[0m \u001b[38;5;28;01mfor\u001b[39;00m synset \u001b[38;5;129;01min\u001b[39;00m synsets:\n",
      "Cell \u001b[0;32mIn[19], line 3\u001b[0m, in \u001b[0;36m<listcomp>\u001b[0;34m(.0)\u001b[0m\n\u001b[1;32m      1\u001b[0m words \u001b[38;5;241m=\u001b[39m [\u001b[38;5;124m\"\u001b[39m\u001b[38;5;124mtulipwood.n.01\u001b[39m\u001b[38;5;124m\"\u001b[39m, \u001b[38;5;124m\"\u001b[39m\u001b[38;5;124mzebrawood.n.01\u001b[39m\u001b[38;5;124m\"\u001b[39m, \u001b[38;5;124m\"\u001b[39m\u001b[38;5;124msatinwood.n.02\u001b[39m\u001b[38;5;124m\"\u001b[39m]\n\u001b[0;32m----> 3\u001b[0m synsets \u001b[38;5;241m=\u001b[39m [wn\u001b[38;5;241m.\u001b[39msynsets(word)[\u001b[38;5;241m0\u001b[39m] \u001b[38;5;28;01mfor\u001b[39;00m word \u001b[38;5;129;01min\u001b[39;00m words]\n\u001b[1;32m      4\u001b[0m nearest_hypernyms \u001b[38;5;241m=\u001b[39m []\n\u001b[1;32m      5\u001b[0m \u001b[38;5;28;01mfor\u001b[39;00m synset \u001b[38;5;129;01min\u001b[39;00m synsets:\n",
      "\u001b[0;31mIndexError\u001b[0m: list index out of range"
     ]
    }
   ],
   "source": [
    "words = [\"tulipwood.n.01\", \"zebrawood.n.01\", \"satinwood.n.02\"]\n",
    "\n",
    "synsets = [wn.synsets(word)[0] for word in words]\n",
    "nearest_hypernyms = []\n",
    "for synset in synsets:\n",
    "    if synset.hypernyms():\n",
    "        nearest_hypernyms.append(synset.hypernyms()[0].name())\n",
    "    else:\n",
    "        nearest_hypernyms.append(\"No closest hypernym found\")\n",
    "\n",
    "# Print nearest hypernyms\n",
    "print(\"Nearest hypernyms:\")\n",
    "for word, hypernym in zip(words, nearest_hypernyms):\n",
    "    print(f\"{word}: {hypernym}\")"
   ]
  },
  {
   "cell_type": "code",
   "execution_count": null,
   "id": "7478c134",
   "metadata": {},
   "outputs": [],
   "source": []
  }
 ],
 "metadata": {
  "kernelspec": {
   "display_name": "Python 3 (ipykernel)",
   "language": "python",
   "name": "python3"
  },
  "language_info": {
   "codemirror_mode": {
    "name": "ipython",
    "version": 3
   },
   "file_extension": ".py",
   "mimetype": "text/x-python",
   "name": "python",
   "nbconvert_exporter": "python",
   "pygments_lexer": "ipython3",
   "version": "3.11.5"
  }
 },
 "nbformat": 4,
 "nbformat_minor": 5
}
