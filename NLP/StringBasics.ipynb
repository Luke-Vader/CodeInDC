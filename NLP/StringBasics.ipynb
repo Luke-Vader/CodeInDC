{
 "cells": [
  {
   "cell_type": "code",
   "execution_count": 1,
   "id": "9db92142",
   "metadata": {},
   "outputs": [],
   "source": [
    "mytext=\"Today was a sad day for me. I dont know what should I do. I feel a little bit headache and other problems.\""
   ]
  },
  {
   "cell_type": "code",
   "execution_count": 2,
   "id": "20c2982b",
   "metadata": {},
   "outputs": [],
   "source": [
    "import nltk"
   ]
  },
  {
   "cell_type": "code",
   "execution_count": 5,
   "id": "b399b745",
   "metadata": {},
   "outputs": [],
   "source": [
    "from nltk.tokenize import sent_tokenize, word_tokenize"
   ]
  },
  {
   "cell_type": "code",
   "execution_count": 6,
   "id": "dee232c4",
   "metadata": {},
   "outputs": [
    {
     "name": "stderr",
     "output_type": "stream",
     "text": [
      "[nltk_data] Downloading package punkt to\n",
      "[nltk_data]     C:\\Users\\300374594\\AppData\\Roaming\\nltk_data...\n",
      "[nltk_data]   Unzipping tokenizers\\punkt.zip.\n"
     ]
    },
    {
     "data": {
      "text/plain": [
       "True"
      ]
     },
     "execution_count": 6,
     "metadata": {},
     "output_type": "execute_result"
    }
   ],
   "source": [
    "nltk.download('punkt')"
   ]
  },
  {
   "cell_type": "code",
   "execution_count": 7,
   "id": "79e437f4",
   "metadata": {},
   "outputs": [],
   "source": [
    "sent=sent_tokenize(mytext)"
   ]
  },
  {
   "cell_type": "code",
   "execution_count": 8,
   "id": "6efe09cc",
   "metadata": {},
   "outputs": [
    {
     "name": "stdout",
     "output_type": "stream",
     "text": [
      "Today was a sad day for me.\n",
      "['Today', 'was', 'a', 'sad', 'day', 'for', 'me', '.']\n",
      "I dont know what should I do.\n",
      "['I', 'dont', 'know', 'what', 'should', 'I', 'do', '.']\n",
      "I feel a little bit headache and other problems.\n",
      "['I', 'feel', 'a', 'little', 'bit', 'headache', 'and', 'other', 'problems', '.']\n"
     ]
    }
   ],
   "source": [
    "for sen in sent:\n",
    "    print(sen)\n",
    "    print(word_tokenize(sen))"
   ]
  },
  {
   "cell_type": "code",
   "execution_count": 9,
   "id": "75f66a68",
   "metadata": {},
   "outputs": [],
   "source": [
    "couplet = \"Shall I compare thee to a Summer's day?\"\\\n",
    "\"Thou are more lovely and more temperate:\" "
   ]
  },
  {
   "cell_type": "code",
   "execution_count": 10,
   "id": "5edb7415",
   "metadata": {},
   "outputs": [
    {
     "data": {
      "text/plain": [
       "\"Shall I compare thee to a Summer's day?Thou are more lovely and more temperate:\""
      ]
     },
     "execution_count": 10,
     "metadata": {},
     "output_type": "execute_result"
    }
   ],
   "source": [
    "couplet"
   ]
  },
  {
   "cell_type": "code",
   "execution_count": 11,
   "id": "5b5d426c",
   "metadata": {},
   "outputs": [],
   "source": [
    "couplet = (\"Rough winds do shake the darling buds of May,\"\n",
    "          \"And Summer's lease hath all too short a date.\")"
   ]
  },
  {
   "cell_type": "code",
   "execution_count": 12,
   "id": "3a766a31",
   "metadata": {},
   "outputs": [
    {
     "data": {
      "text/plain": [
       "\"Rough winds do shake the darling buds of May,And Summer's lease hath all too short a date.\""
      ]
     },
     "execution_count": 12,
     "metadata": {},
     "output_type": "execute_result"
    }
   ],
   "source": [
    "couplet"
   ]
  },
  {
   "cell_type": "code",
   "execution_count": 13,
   "id": "a5ff4337",
   "metadata": {},
   "outputs": [],
   "source": [
    "couplet = \"\"\"Shall I compare thee to a Summer's day?\n",
    "            Thou are more loverly and more temperate:\"\"\""
   ]
  },
  {
   "cell_type": "code",
   "execution_count": 14,
   "id": "492eba5a",
   "metadata": {},
   "outputs": [
    {
     "data": {
      "text/plain": [
       "\"Shall I compare thee to a Summer's day?\\n            Thou are more loverly and more temperate:\""
      ]
     },
     "execution_count": 14,
     "metadata": {},
     "output_type": "execute_result"
    }
   ],
   "source": [
    "couplet"
   ]
  },
  {
   "cell_type": "code",
   "execution_count": 15,
   "id": "acb35509",
   "metadata": {},
   "outputs": [],
   "source": [
    "couplet = '''Rough winds do shake the darling buds of May,\n",
    "And Summer's lease hath all too short a date.'''"
   ]
  },
  {
   "cell_type": "code",
   "execution_count": 16,
   "id": "191711b1",
   "metadata": {},
   "outputs": [
    {
     "data": {
      "text/plain": [
       "\"Rough winds do shake the darling buds of May,\\nAnd Summer's lease hath all too short a date.\""
      ]
     },
     "execution_count": 16,
     "metadata": {},
     "output_type": "execute_result"
    }
   ],
   "source": [
    "couplet"
   ]
  },
  {
   "cell_type": "code",
   "execution_count": 17,
   "id": "909950bc",
   "metadata": {},
   "outputs": [
    {
     "data": {
      "text/plain": [
       "'veryveryvery'"
      ]
     },
     "execution_count": 17,
     "metadata": {},
     "output_type": "execute_result"
    }
   ],
   "source": [
    "'very' * 3"
   ]
  },
  {
   "cell_type": "code",
   "execution_count": 18,
   "id": "9e63da55",
   "metadata": {},
   "outputs": [],
   "source": [
    "a = [1, 2, 3, 4, 5, 6, 7, 6, 5, 4, 3, 2, 1] "
   ]
  },
  {
   "cell_type": "code",
   "execution_count": 19,
   "id": "14d0d2b1",
   "metadata": {},
   "outputs": [],
   "source": [
    "b = [' ' * 2 * (7-i) + 'very' *i for i in a]"
   ]
  },
  {
   "cell_type": "code",
   "execution_count": 21,
   "id": "8588f096",
   "metadata": {},
   "outputs": [
    {
     "name": "stdout",
     "output_type": "stream",
     "text": [
      "            very\n",
      "          veryvery\n",
      "        veryveryvery\n",
      "      veryveryveryvery\n",
      "    veryveryveryveryvery\n",
      "  veryveryveryveryveryvery\n",
      "veryveryveryveryveryveryvery\n",
      "  veryveryveryveryveryvery\n",
      "    veryveryveryveryvery\n",
      "      veryveryveryvery\n",
      "        veryveryvery\n",
      "          veryvery\n",
      "            very\n"
     ]
    }
   ],
   "source": [
    "for line in b:\n",
    "    print(line)"
   ]
  },
  {
   "cell_type": "code",
   "execution_count": 41,
   "id": "f1c26247",
   "metadata": {
    "scrolled": false
   },
   "outputs": [
    {
     "name": "stdout",
     "output_type": "stream",
     "text": [
      "['            very', '          veryvery', '        veryveryvery', '      veryveryveryvery', '    veryveryveryveryvery', '  veryveryveryveryveryvery', 'veryveryveryveryveryveryvery', '  veryveryveryveryveryvery', '    veryveryveryveryvery', '      veryveryveryvery', '        veryveryvery', '          veryvery', '            very']\n"
     ]
    }
   ],
   "source": [
    "print(b)"
   ]
  },
  {
   "cell_type": "code",
   "execution_count": 22,
   "id": "3d785d5b",
   "metadata": {},
   "outputs": [],
   "source": [
    "monty = 'Monty Python'"
   ]
  },
  {
   "cell_type": "code",
   "execution_count": 23,
   "id": "c2dcf75c",
   "metadata": {},
   "outputs": [
    {
     "data": {
      "text/plain": [
       "'M'"
      ]
     },
     "execution_count": 23,
     "metadata": {},
     "output_type": "execute_result"
    }
   ],
   "source": [
    "monty[0]"
   ]
  },
  {
   "cell_type": "code",
   "execution_count": 24,
   "id": "76d6f32c",
   "metadata": {},
   "outputs": [
    {
     "data": {
      "text/plain": [
       "'n'"
      ]
     },
     "execution_count": 24,
     "metadata": {},
     "output_type": "execute_result"
    }
   ],
   "source": [
    "monty[11]"
   ]
  },
  {
   "cell_type": "code",
   "execution_count": 25,
   "id": "939d5091",
   "metadata": {},
   "outputs": [
    {
     "data": {
      "text/plain": [
       "'n'"
      ]
     },
     "execution_count": 25,
     "metadata": {},
     "output_type": "execute_result"
    }
   ],
   "source": [
    "monty[-1]"
   ]
  },
  {
   "cell_type": "code",
   "execution_count": 26,
   "id": "81b9eebc",
   "metadata": {},
   "outputs": [
    {
     "data": {
      "text/plain": [
       "'P'"
      ]
     },
     "execution_count": 26,
     "metadata": {},
     "output_type": "execute_result"
    }
   ],
   "source": [
    "monty[-6]"
   ]
  },
  {
   "cell_type": "code",
   "execution_count": 27,
   "id": "c35733ea",
   "metadata": {},
   "outputs": [
    {
     "data": {
      "text/plain": [
       "'Pyth'"
      ]
     },
     "execution_count": 27,
     "metadata": {},
     "output_type": "execute_result"
    }
   ],
   "source": [
    "monty[6:10]"
   ]
  },
  {
   "cell_type": "code",
   "execution_count": 28,
   "id": "30395d23",
   "metadata": {},
   "outputs": [
    {
     "data": {
      "text/plain": [
       "'Monty'"
      ]
     },
     "execution_count": 28,
     "metadata": {},
     "output_type": "execute_result"
    }
   ],
   "source": [
    "monty[-12:-7]"
   ]
  },
  {
   "cell_type": "code",
   "execution_count": 29,
   "id": "4721aff8",
   "metadata": {},
   "outputs": [
    {
     "data": {
      "text/plain": [
       "6"
      ]
     },
     "execution_count": 29,
     "metadata": {},
     "output_type": "execute_result"
    }
   ],
   "source": [
    "monty.find('Python')"
   ]
  },
  {
   "cell_type": "code",
   "execution_count": 30,
   "id": "75d0f541",
   "metadata": {},
   "outputs": [
    {
     "data": {
      "text/plain": [
       "'Monty'"
      ]
     },
     "execution_count": 30,
     "metadata": {},
     "output_type": "execute_result"
    }
   ],
   "source": [
    "monty[:5]"
   ]
  },
  {
   "cell_type": "code",
   "execution_count": 31,
   "id": "230fa2cf",
   "metadata": {},
   "outputs": [],
   "source": [
    "sent = 'colorless green ideas sleep furiously'"
   ]
  },
  {
   "cell_type": "code",
   "execution_count": 33,
   "id": "8d36cd16",
   "metadata": {},
   "outputs": [
    {
     "name": "stdout",
     "output_type": "stream",
     "text": [
      "c\n",
      "o\n",
      "l\n",
      "o\n",
      "r\n",
      "l\n",
      "e\n",
      "s\n",
      "s\n",
      " \n",
      "g\n",
      "r\n",
      "e\n",
      "e\n",
      "n\n",
      " \n",
      "i\n",
      "d\n",
      "e\n",
      "a\n",
      "s\n",
      " \n",
      "s\n",
      "l\n",
      "e\n",
      "e\n",
      "p\n",
      " \n",
      "f\n",
      "u\n",
      "r\n",
      "i\n",
      "o\n",
      "u\n",
      "s\n",
      "l\n",
      "y\n"
     ]
    }
   ],
   "source": [
    "for char in sent:\n",
    "    print(char,)"
   ]
  },
  {
   "cell_type": "code",
   "execution_count": 34,
   "id": "e2698f38",
   "metadata": {},
   "outputs": [],
   "source": [
    "beatles = ['John', 'Paul', 'George', 'Ringo']"
   ]
  },
  {
   "cell_type": "code",
   "execution_count": 35,
   "id": "6ee10664",
   "metadata": {},
   "outputs": [
    {
     "data": {
      "text/plain": [
       "'John'"
      ]
     },
     "execution_count": 35,
     "metadata": {},
     "output_type": "execute_result"
    }
   ],
   "source": [
    "beatles[0]"
   ]
  },
  {
   "cell_type": "code",
   "execution_count": 36,
   "id": "b78a82ce",
   "metadata": {},
   "outputs": [],
   "source": [
    "del beatles[-1]"
   ]
  },
  {
   "cell_type": "code",
   "execution_count": 37,
   "id": "04fd5fb9",
   "metadata": {},
   "outputs": [
    {
     "data": {
      "text/plain": [
       "['John', 'Paul', 'George']"
      ]
     },
     "execution_count": 37,
     "metadata": {},
     "output_type": "execute_result"
    }
   ],
   "source": [
    "beatles"
   ]
  },
  {
   "cell_type": "code",
   "execution_count": 38,
   "id": "037bfcb2",
   "metadata": {},
   "outputs": [],
   "source": [
    "query = \"Who Knows?\""
   ]
  },
  {
   "cell_type": "code",
   "execution_count": 39,
   "id": "6d7ff52e",
   "metadata": {},
   "outputs": [
    {
     "data": {
      "text/plain": [
       "'W'"
      ]
     },
     "execution_count": 39,
     "metadata": {},
     "output_type": "execute_result"
    }
   ],
   "source": [
    "query[0]"
   ]
  },
  {
   "cell_type": "code",
   "execution_count": 40,
   "id": "88dad3be",
   "metadata": {},
   "outputs": [
    {
     "ename": "TypeError",
     "evalue": "'str' object does not support item assignment",
     "output_type": "error",
     "traceback": [
      "\u001b[1;31m---------------------------------------------------------------------------\u001b[0m",
      "\u001b[1;31mTypeError\u001b[0m                                 Traceback (most recent call last)",
      "Cell \u001b[1;32mIn[40], line 1\u001b[0m\n\u001b[1;32m----> 1\u001b[0m query[\u001b[38;5;241m0\u001b[39m] \u001b[38;5;241m=\u001b[39m \u001b[38;5;124m'\u001b[39m\u001b[38;5;124mF\u001b[39m\u001b[38;5;124m'\u001b[39m\n",
      "\u001b[1;31mTypeError\u001b[0m: 'str' object does not support item assignment"
     ]
    }
   ],
   "source": [
    "query[0] = 'F'"
   ]
  },
  {
   "cell_type": "code",
   "execution_count": null,
   "id": "83038f2e",
   "metadata": {},
   "outputs": [],
   "source": []
  }
 ],
 "metadata": {
  "kernelspec": {
   "display_name": "Python 3 (ipykernel)",
   "language": "python",
   "name": "python3"
  },
  "language_info": {
   "codemirror_mode": {
    "name": "ipython",
    "version": 3
   },
   "file_extension": ".py",
   "mimetype": "text/x-python",
   "name": "python",
   "nbconvert_exporter": "python",
   "pygments_lexer": "ipython3",
   "version": "3.11.5"
  }
 },
 "nbformat": 4,
 "nbformat_minor": 5
}
