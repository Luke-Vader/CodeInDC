{
 "cells": [
  {
   "cell_type": "code",
   "execution_count": 7,
   "id": "8beffcc9",
   "metadata": {},
   "outputs": [],
   "source": [
    "import nltk"
   ]
  },
  {
   "cell_type": "code",
   "execution_count": 8,
   "id": "08ae8a22",
   "metadata": {},
   "outputs": [],
   "source": [
    "from nltk.tokenize import word_tokenize, sent_tokenize"
   ]
  },
  {
   "cell_type": "code",
   "execution_count": 4,
   "id": "9f882ef9",
   "metadata": {},
   "outputs": [],
   "source": [
    "raw = open('/Users/rishabhbanerjee/Documents/GitHub/CodeInDC/NLP/sample1.txt').read()"
   ]
  },
  {
   "cell_type": "code",
   "execution_count": 5,
   "id": "ccfbc8ee",
   "metadata": {},
   "outputs": [
    {
     "data": {
      "text/plain": [
       "str"
      ]
     },
     "execution_count": 5,
     "metadata": {},
     "output_type": "execute_result"
    }
   ],
   "source": [
    "type(raw)"
   ]
  },
  {
   "cell_type": "code",
   "execution_count": 9,
   "id": "63eb99a5",
   "metadata": {},
   "outputs": [],
   "source": [
    "tokens = nltk.word_tokenize(raw)"
   ]
  },
  {
   "cell_type": "code",
   "execution_count": 10,
   "id": "c25af6b9",
   "metadata": {},
   "outputs": [
    {
     "data": {
      "text/plain": [
       "list"
      ]
     },
     "execution_count": 10,
     "metadata": {},
     "output_type": "execute_result"
    }
   ],
   "source": [
    "type(tokens)"
   ]
  },
  {
   "cell_type": "code",
   "execution_count": 11,
   "id": "16c6f23e",
   "metadata": {},
   "outputs": [],
   "source": [
    "words = [w.lower() for w in tokens]"
   ]
  },
  {
   "cell_type": "code",
   "execution_count": 12,
   "id": "5ecd59ff",
   "metadata": {},
   "outputs": [
    {
     "data": {
      "text/plain": [
       "list"
      ]
     },
     "execution_count": 12,
     "metadata": {},
     "output_type": "execute_result"
    }
   ],
   "source": [
    "type(words)"
   ]
  },
  {
   "cell_type": "code",
   "execution_count": 13,
   "id": "c4614c27",
   "metadata": {},
   "outputs": [],
   "source": [
    "vocab = sorted(set(words))"
   ]
  },
  {
   "cell_type": "code",
   "execution_count": 14,
   "id": "a980934f",
   "metadata": {},
   "outputs": [
    {
     "data": {
      "text/plain": [
       "list"
      ]
     },
     "execution_count": 14,
     "metadata": {},
     "output_type": "execute_result"
    }
   ],
   "source": [
    "type(vocab)"
   ]
  },
  {
   "cell_type": "code",
   "execution_count": 15,
   "id": "8c1c3940",
   "metadata": {},
   "outputs": [],
   "source": [
    "vocab.append('blog')"
   ]
  },
  {
   "cell_type": "code",
   "execution_count": 16,
   "id": "4303e9d8",
   "metadata": {},
   "outputs": [
    {
     "data": {
      "text/plain": [
       "[\"'s\",\n",
       " ',',\n",
       " '.',\n",
       " '.net',\n",
       " '24',\n",
       " '365',\n",
       " ':',\n",
       " ';',\n",
       " 'a',\n",
       " 'ability',\n",
       " 'access',\n",
       " 'accessibility',\n",
       " 'accommodate',\n",
       " 'across',\n",
       " 'actions',\n",
       " 'activemq',\n",
       " 'activities',\n",
       " 'acts',\n",
       " 'adapt',\n",
       " 'adaptability',\n",
       " 'add',\n",
       " 'adding',\n",
       " 'additional',\n",
       " 'adds',\n",
       " 'administration',\n",
       " 'advantages',\n",
       " 'aggregation',\n",
       " 'aims',\n",
       " 'allocation',\n",
       " 'allowing',\n",
       " 'allows',\n",
       " 'also',\n",
       " 'amazon',\n",
       " 'amqp',\n",
       " 'an',\n",
       " 'analysis',\n",
       " 'analytics',\n",
       " 'analyze',\n",
       " 'and',\n",
       " 'another',\n",
       " 'apache',\n",
       " 'api',\n",
       " 'apis',\n",
       " 'append-only',\n",
       " 'application',\n",
       " 'applications',\n",
       " 'approach',\n",
       " 'architecture',\n",
       " 'architectures',\n",
       " 'are',\n",
       " 'as',\n",
       " 'asset',\n",
       " 'assigned',\n",
       " 'asynchronous',\n",
       " 'at',\n",
       " 'authentication',\n",
       " 'available',\n",
       " 'aws',\n",
       " 'balancing',\n",
       " 'based',\n",
       " 'be',\n",
       " 'become',\n",
       " 'being',\n",
       " 'belonging',\n",
       " 'better',\n",
       " 'between',\n",
       " 'big',\n",
       " 'born',\n",
       " 'both',\n",
       " 'breaking',\n",
       " 'bridge',\n",
       " 'brings',\n",
       " 'broad',\n",
       " 'broadening',\n",
       " 'broker',\n",
       " 'broker-level',\n",
       " 'brokers',\n",
       " 'build',\n",
       " 'building',\n",
       " 'built-in',\n",
       " 'businesses',\n",
       " 'but',\n",
       " 'by',\n",
       " 'called',\n",
       " 'can',\n",
       " 'capabilities',\n",
       " 'capable',\n",
       " 'case',\n",
       " 'cases',\n",
       " 'categories',\n",
       " 'category',\n",
       " 'cater',\n",
       " 'center',\n",
       " 'central',\n",
       " 'certain',\n",
       " 'challenge',\n",
       " 'challenges',\n",
       " 'challenging',\n",
       " 'changes',\n",
       " 'choice',\n",
       " 'client',\n",
       " 'clients',\n",
       " 'cluster',\n",
       " 'clusters',\n",
       " 'combined',\n",
       " 'community',\n",
       " 'comparable',\n",
       " 'compatibility',\n",
       " 'competitive',\n",
       " 'competitors',\n",
       " 'complete',\n",
       " 'complex',\n",
       " 'complexity',\n",
       " 'component',\n",
       " 'comprehensive',\n",
       " 'conceived',\n",
       " 'concepts',\n",
       " 'conclusion',\n",
       " 'configuration',\n",
       " 'configure',\n",
       " 'connect',\n",
       " 'connecting',\n",
       " 'connectors',\n",
       " 'consist',\n",
       " 'consistency',\n",
       " 'consistently',\n",
       " 'consolidates',\n",
       " 'consumed',\n",
       " 'consumer',\n",
       " 'consumers',\n",
       " 'consumption',\n",
       " 'contexts',\n",
       " 'continues',\n",
       " 'continuous',\n",
       " 'control',\n",
       " 'coordination',\n",
       " 'core',\n",
       " 'cost',\n",
       " 'costs',\n",
       " 'critical',\n",
       " 'crucial',\n",
       " 'curve',\n",
       " 'data',\n",
       " 'data-centric',\n",
       " 'databases',\n",
       " 'day',\n",
       " 'days',\n",
       " 'decision-making',\n",
       " 'default',\n",
       " 'defined',\n",
       " 'deliver',\n",
       " 'delivery',\n",
       " 'demands',\n",
       " 'demonstrating',\n",
       " 'dependence',\n",
       " 'dependency',\n",
       " 'depends',\n",
       " 'deployments',\n",
       " 'design',\n",
       " 'designed',\n",
       " 'despite',\n",
       " 'detect',\n",
       " 'detection',\n",
       " 'developed',\n",
       " 'development',\n",
       " 'devices',\n",
       " 'different',\n",
       " 'digital',\n",
       " 'directions',\n",
       " 'directly',\n",
       " 'disk',\n",
       " 'distinct',\n",
       " 'distributed',\n",
       " 'distribution',\n",
       " 'diverse',\n",
       " 'do',\n",
       " 'does',\n",
       " 'downstream',\n",
       " 'downtime',\n",
       " 'due',\n",
       " 'durability',\n",
       " 'duties',\n",
       " 'dynamic',\n",
       " 'each',\n",
       " 'ease',\n",
       " 'easier',\n",
       " 'easy',\n",
       " 'easy-to-use',\n",
       " 'ecosystem',\n",
       " 'effectively',\n",
       " 'efficiency',\n",
       " 'efficient',\n",
       " 'effort',\n",
       " 'efforts',\n",
       " 'embraced',\n",
       " 'employ',\n",
       " 'enables',\n",
       " 'enabling',\n",
       " 'encompassing',\n",
       " 'engine',\n",
       " 'enhance',\n",
       " 'enhanced',\n",
       " 'enhancing',\n",
       " 'ensure',\n",
       " 'ensures',\n",
       " 'ensuring',\n",
       " 'enterprise',\n",
       " 'environment',\n",
       " 'especially',\n",
       " 'essential',\n",
       " 'established',\n",
       " 'etc.',\n",
       " 'even',\n",
       " 'event',\n",
       " 'event-driven',\n",
       " 'events',\n",
       " 'evolve',\n",
       " 'evolved',\n",
       " 'evolves',\n",
       " 'evolving',\n",
       " 'excels',\n",
       " 'exceptional',\n",
       " 'exchange',\n",
       " 'executive',\n",
       " 'existing',\n",
       " 'expanded',\n",
       " 'expected',\n",
       " 'experience',\n",
       " 'extendable',\n",
       " 'extended',\n",
       " 'extends',\n",
       " 'extensions',\n",
       " 'extensive',\n",
       " 'extensively',\n",
       " 'external',\n",
       " 'facilitate',\n",
       " 'factors',\n",
       " 'fails',\n",
       " 'failure',\n",
       " 'fan-out',\n",
       " 'fault',\n",
       " 'feature',\n",
       " 'features',\n",
       " 'few',\n",
       " 'file',\n",
       " 'filtering',\n",
       " 'financial',\n",
       " 'firehose',\n",
       " 'flexibility',\n",
       " 'flexible',\n",
       " 'flows',\n",
       " 'focus',\n",
       " 'for',\n",
       " 'forefront',\n",
       " 'foundational',\n",
       " 'framework',\n",
       " 'fraud',\n",
       " 'fraudulent',\n",
       " 'from',\n",
       " 'function',\n",
       " 'functionalities',\n",
       " 'functions',\n",
       " 'fundamental',\n",
       " 'future',\n",
       " 'future-ready',\n",
       " 'giving',\n",
       " 'granular',\n",
       " 'greater',\n",
       " 'groups',\n",
       " 'grow',\n",
       " 'guarantee',\n",
       " 'handle',\n",
       " 'handling',\n",
       " 'hands-off',\n",
       " 'hardware',\n",
       " 'has',\n",
       " 'hashing',\n",
       " 'have',\n",
       " 'health',\n",
       " 'hierarchical',\n",
       " 'high',\n",
       " 'high-throughput',\n",
       " 'higher',\n",
       " 'horizontal',\n",
       " 'hours',\n",
       " 'however',\n",
       " 'id',\n",
       " 'ideal',\n",
       " 'if',\n",
       " 'immediate',\n",
       " 'importance',\n",
       " 'impose',\n",
       " 'improved',\n",
       " 'improvements',\n",
       " 'in',\n",
       " 'include',\n",
       " 'includes',\n",
       " 'including',\n",
       " 'incorporating',\n",
       " 'increase',\n",
       " 'increased',\n",
       " 'indexes',\n",
       " 'industries',\n",
       " 'information',\n",
       " 'infrastructure',\n",
       " 'initially',\n",
       " 'input',\n",
       " 'installation',\n",
       " 'institutions',\n",
       " 'integrates',\n",
       " 'integration',\n",
       " 'integrations',\n",
       " 'intensive',\n",
       " 'interface',\n",
       " 'internal',\n",
       " 'interoperability',\n",
       " 'into',\n",
       " 'introduction',\n",
       " 'iot',\n",
       " 'is',\n",
       " 'it',\n",
       " 'its',\n",
       " 'itself',\n",
       " 'java',\n",
       " 'just',\n",
       " 'kafka',\n",
       " \"kafka's\",\n",
       " 'kerberos',\n",
       " 'key',\n",
       " 'key-value',\n",
       " 'keys',\n",
       " 'kinesis',\n",
       " 'known',\n",
       " 'ksql',\n",
       " 'lacks',\n",
       " 'landscape',\n",
       " 'language',\n",
       " 'languages',\n",
       " 'large-scale',\n",
       " 'latency',\n",
       " 'layer',\n",
       " 'lead',\n",
       " 'learning',\n",
       " 'level',\n",
       " 'leverage',\n",
       " 'libraries',\n",
       " 'library',\n",
       " 'like',\n",
       " 'limit',\n",
       " 'limitations',\n",
       " 'limits',\n",
       " 'linkedin',\n",
       " 'live-feed',\n",
       " 'load',\n",
       " 'loads',\n",
       " 'log',\n",
       " 'logic',\n",
       " 'logs',\n",
       " 'longer',\n",
       " 'looking',\n",
       " 'loss',\n",
       " 'lost',\n",
       " 'low',\n",
       " 'low-latency',\n",
       " 'main',\n",
       " 'maintenance',\n",
       " 'make',\n",
       " 'makes',\n",
       " 'making',\n",
       " 'manage',\n",
       " 'managed',\n",
       " 'management',\n",
       " 'manages',\n",
       " 'managing',\n",
       " 'many',\n",
       " 'massive',\n",
       " 'may',\n",
       " 'mechanisms',\n",
       " 'meet',\n",
       " 'merely',\n",
       " 'message',\n",
       " 'messages',\n",
       " 'messaging',\n",
       " 'microservices',\n",
       " 'model',\n",
       " 'models',\n",
       " 'modern',\n",
       " 'monitoring',\n",
       " 'more',\n",
       " 'moving',\n",
       " 'mqtt',\n",
       " 'multi-subscriber',\n",
       " 'multiple',\n",
       " 'must',\n",
       " 'myriad',\n",
       " 'native',\n",
       " 'nature',\n",
       " 'necessity',\n",
       " 'need',\n",
       " 'needs',\n",
       " 'network',\n",
       " 'networked',\n",
       " 'new',\n",
       " 'no',\n",
       " 'node',\n",
       " 'nodes',\n",
       " 'not',\n",
       " 'now',\n",
       " 'observing',\n",
       " 'occur',\n",
       " 'of',\n",
       " 'offer',\n",
       " 'offering',\n",
       " 'offers',\n",
       " 'offset',\n",
       " 'on',\n",
       " 'on-the-fly',\n",
       " 'once',\n",
       " 'ongoing',\n",
       " 'online',\n",
       " 'open-source',\n",
       " 'operate',\n",
       " 'operates',\n",
       " 'operation',\n",
       " 'operational',\n",
       " 'optimized',\n",
       " 'option',\n",
       " 'options',\n",
       " 'or',\n",
       " 'order',\n",
       " 'ordering',\n",
       " 'organization',\n",
       " 'organizations',\n",
       " 'other',\n",
       " 'others',\n",
       " 'out',\n",
       " 'output',\n",
       " 'over',\n",
       " 'overhead',\n",
       " 'own',\n",
       " 'pace',\n",
       " 'paramount',\n",
       " 'particular',\n",
       " 'particularly',\n",
       " 'partition',\n",
       " 'partition/shard-based',\n",
       " 'partitioned',\n",
       " 'partitioning',\n",
       " 'partitions',\n",
       " 'patterns',\n",
       " 'pay-as-you-go',\n",
       " 'payload',\n",
       " 'per',\n",
       " 'perform',\n",
       " 'performance',\n",
       " 'period',\n",
       " 'periods',\n",
       " 'persisted',\n",
       " 'persistence',\n",
       " 'pipelines',\n",
       " 'planning',\n",
       " 'platform',\n",
       " 'platforms',\n",
       " 'players',\n",
       " 'poised',\n",
       " 'policies',\n",
       " 'popular',\n",
       " 'pose',\n",
       " 'position',\n",
       " 'potentially',\n",
       " 'power',\n",
       " 'powerful',\n",
       " 'prefer',\n",
       " 'present',\n",
       " 'presents',\n",
       " 'prevent',\n",
       " 'pricing',\n",
       " 'primarily',\n",
       " 'primary',\n",
       " 'prior',\n",
       " 'prioritize',\n",
       " 'process',\n",
       " 'processed',\n",
       " 'processes',\n",
       " 'processing',\n",
       " 'producer',\n",
       " 'producers',\n",
       " 'production',\n",
       " 'programming',\n",
       " 'protocol',\n",
       " 'protocols',\n",
       " 'provide',\n",
       " 'provides',\n",
       " 'providing',\n",
       " 'proxy',\n",
       " 'publish',\n",
       " 'published',\n",
       " 'publishing',\n",
       " 'pull',\n",
       " 'pull-based',\n",
       " 'push',\n",
       " 'python',\n",
       " 'queue',\n",
       " 'quickly',\n",
       " 'rabbitmq',\n",
       " 'rabbitmq/activemq',\n",
       " 'range',\n",
       " 're-engineering',\n",
       " 'reading',\n",
       " 'real',\n",
       " 'real-time',\n",
       " 'recommendations',\n",
       " 'records',\n",
       " 'recovery',\n",
       " 'reduce',\n",
       " 'reduces',\n",
       " 'reducing',\n",
       " 'registry',\n",
       " 'reliability',\n",
       " 'reliable',\n",
       " 'reliably',\n",
       " 'relies',\n",
       " 'remain',\n",
       " 'renowned',\n",
       " 'replaces',\n",
       " 'replicated',\n",
       " 'replicating',\n",
       " 'replication',\n",
       " 'requires',\n",
       " 'requiring',\n",
       " 'resilience',\n",
       " 'resilient',\n",
       " 'resource',\n",
       " 'resource-intensive',\n",
       " 'resources',\n",
       " 'respond',\n",
       " 'responsive',\n",
       " 'rest',\n",
       " 'result',\n",
       " 'retains',\n",
       " 'retention',\n",
       " 'reusable',\n",
       " 'revolutionized',\n",
       " 'rich',\n",
       " 'robust',\n",
       " 'routing',\n",
       " 'running',\n",
       " 's',\n",
       " 'same',\n",
       " 'scalability',\n",
       " 'scalable',\n",
       " 'scale',\n",
       " 'scaled',\n",
       " 'scaling',\n",
       " 'scenarios',\n",
       " 'schema',\n",
       " 'schemas',\n",
       " 'sdk',\n",
       " 'sdks',\n",
       " 'search',\n",
       " 'second',\n",
       " 'security',\n",
       " 'seeking',\n",
       " 'sensor',\n",
       " 'sensors',\n",
       " 'sent',\n",
       " 'separate',\n",
       " 'sequence',\n",
       " 'sequential',\n",
       " 'servers',\n",
       " 'service',\n",
       " 'services',\n",
       " 'set',\n",
       " 'setting',\n",
       " 'setup',\n",
       " 'seven',\n",
       " 'several',\n",
       " 'shard',\n",
       " 'shards',\n",
       " 'shared',\n",
       " 'significant',\n",
       " 'significantly',\n",
       " 'similar',\n",
       " 'simplicity',\n",
       " 'simplifies',\n",
       " 'simplify',\n",
       " 'simultaneously',\n",
       " 'skilled',\n",
       " 'solution',\n",
       " 'solutions',\n",
       " 'specific',\n",
       " 'spectrum',\n",
       " 'sql',\n",
       " 'ssl/tls',\n",
       " 'stands',\n",
       " 'state',\n",
       " 'steep',\n",
       " 'storage',\n",
       " 'store',\n",
       " 'stored',\n",
       " 'stores',\n",
       " 'strategic',\n",
       " 'strategies',\n",
       " 'stream',\n",
       " 'streaming',\n",
       " 'streams',\n",
       " 'strengths',\n",
       " 'strict',\n",
       " 'structures',\n",
       " 'subscribe',\n",
       " 'subscribing',\n",
       " 'subscriptions',\n",
       " 'such',\n",
       " 'suitable',\n",
       " 'suited',\n",
       " 'summary',\n",
       " 'support',\n",
       " 'supporting',\n",
       " 'supports',\n",
       " 'surge',\n",
       " 'system',\n",
       " 'systems',\n",
       " 'take',\n",
       " 'teams',\n",
       " 'technology',\n",
       " 'that',\n",
       " 'the',\n",
       " 'their',\n",
       " 'these',\n",
       " 'they',\n",
       " 'this',\n",
       " 'thorough',\n",
       " 'though',\n",
       " 'thousands',\n",
       " 'through',\n",
       " 'throughput',\n",
       " 'time',\n",
       " 'time-sensitive',\n",
       " 'to',\n",
       " 'tolerance',\n",
       " 'tool',\n",
       " 'tools',\n",
       " 'topic',\n",
       " 'topics',\n",
       " 'total',\n",
       " 'towards',\n",
       " 'tracking',\n",
       " 'trading',\n",
       " 'traditional',\n",
       " 'transaction',\n",
       " 'transactional',\n",
       " 'transient',\n",
       " 'transit',\n",
       " 'triggering',\n",
       " 'trillions',\n",
       " 'tuning',\n",
       " 'underpinned',\n",
       " 'underscore',\n",
       " 'unique',\n",
       " 'units',\n",
       " 'up',\n",
       " 'upfront',\n",
       " 'use',\n",
       " 'used',\n",
       " 'useful',\n",
       " 'user',\n",
       " 'users',\n",
       " 'uses',\n",
       " 'utilized',\n",
       " 'utilizes',\n",
       " 'valued',\n",
       " 'various',\n",
       " 'versatile',\n",
       " 'versatility',\n",
       " 'vibrant',\n",
       " 'volumes',\n",
       " 'way',\n",
       " 'web-based',\n",
       " 'when',\n",
       " 'where',\n",
       " 'which',\n",
       " 'while',\n",
       " 'who',\n",
       " 'wide',\n",
       " 'will',\n",
       " 'wire',\n",
       " 'with',\n",
       " 'within',\n",
       " 'without',\n",
       " 'world',\n",
       " 'writing',\n",
       " 'zookeeper',\n",
       " '’',\n",
       " 'blog']"
      ]
     },
     "execution_count": 16,
     "metadata": {},
     "output_type": "execute_result"
    }
   ],
   "source": [
    "vocab"
   ]
  },
  {
   "cell_type": "code",
   "execution_count": 17,
   "id": "0cca8108",
   "metadata": {},
   "outputs": [],
   "source": [
    "import nltk"
   ]
  },
  {
   "cell_type": "code",
   "execution_count": 18,
   "id": "c14e712d",
   "metadata": {},
   "outputs": [],
   "source": [
    "from nltk.corpus import wordnet as wn"
   ]
  },
  {
   "cell_type": "code",
   "execution_count": 19,
   "id": "3441f254",
   "metadata": {},
   "outputs": [
    {
     "data": {
      "text/plain": [
       "[Synset('car.n.01')]"
      ]
     },
     "execution_count": 19,
     "metadata": {},
     "output_type": "execute_result"
    }
   ],
   "source": [
    "wn.synsets('motorcar')"
   ]
  },
  {
   "cell_type": "code",
   "execution_count": 20,
   "id": "c10bbaf2",
   "metadata": {},
   "outputs": [
    {
     "data": {
      "text/plain": [
       "[Synset('forest.n.01'),\n",
       " Synset('wood.n.01'),\n",
       " Synset('forest.n.01'),\n",
       " Synset('wood.n.03'),\n",
       " Synset('wood.n.04'),\n",
       " Synset('wood.n.05'),\n",
       " Synset('wood.n.06'),\n",
       " Synset('woodwind.n.01'),\n",
       " Synset('wood.n.08')]"
      ]
     },
     "execution_count": 20,
     "metadata": {},
     "output_type": "execute_result"
    }
   ],
   "source": [
    "wn.synsets('woods')"
   ]
  },
  {
   "cell_type": "code",
   "execution_count": 21,
   "id": "871b236e",
   "metadata": {},
   "outputs": [
    {
     "data": {
      "text/plain": [
       "['car', 'auto', 'automobile', 'machine', 'motorcar']"
      ]
     },
     "execution_count": 21,
     "metadata": {},
     "output_type": "execute_result"
    }
   ],
   "source": [
    "wn.synset('car.n.01').lemma_names()"
   ]
  },
  {
   "cell_type": "code",
   "execution_count": 23,
   "id": "67f8bb56",
   "metadata": {},
   "outputs": [
    {
     "data": {
      "text/plain": [
       "'a motor vehicle with four wheels; usually propelled by an internal combustion engine'"
      ]
     },
     "execution_count": 23,
     "metadata": {},
     "output_type": "execute_result"
    }
   ],
   "source": [
    "wn.synset('car.n.01').definition()"
   ]
  },
  {
   "cell_type": "code",
   "execution_count": 25,
   "id": "88b25e5f",
   "metadata": {},
   "outputs": [
    {
     "data": {
      "text/plain": [
       "['he needs a car to get to work']"
      ]
     },
     "execution_count": 25,
     "metadata": {},
     "output_type": "execute_result"
    }
   ],
   "source": [
    "wn.synset('car.n.01').examples()"
   ]
  },
  {
   "cell_type": "code",
   "execution_count": 28,
   "id": "b234a6ec",
   "metadata": {},
   "outputs": [
    {
     "data": {
      "text/plain": [
       "['car', 'elevator_car']"
      ]
     },
     "execution_count": 28,
     "metadata": {},
     "output_type": "execute_result"
    }
   ],
   "source": [
    "wn.synset('car.n.04').lemma_names()"
   ]
  },
  {
   "cell_type": "code",
   "execution_count": 29,
   "id": "48c721d5",
   "metadata": {},
   "outputs": [
    {
     "data": {
      "text/plain": [
       "[Lemma('car.n.01.car'),\n",
       " Lemma('car.n.01.auto'),\n",
       " Lemma('car.n.01.automobile'),\n",
       " Lemma('car.n.01.machine'),\n",
       " Lemma('car.n.01.motorcar')]"
      ]
     },
     "execution_count": 29,
     "metadata": {},
     "output_type": "execute_result"
    }
   ],
   "source": [
    "wn.synset('car.n.01').lemmas()"
   ]
  },
  {
   "cell_type": "code",
   "execution_count": 30,
   "id": "908f9303",
   "metadata": {},
   "outputs": [
    {
     "data": {
      "text/plain": [
       "Lemma('car.n.01.automobile')"
      ]
     },
     "execution_count": 30,
     "metadata": {},
     "output_type": "execute_result"
    }
   ],
   "source": [
    "wn.lemma('car.n.01.automobile')"
   ]
  },
  {
   "cell_type": "code",
   "execution_count": 31,
   "id": "9e06b2a3",
   "metadata": {},
   "outputs": [
    {
     "data": {
      "text/plain": [
       "Synset('car.n.01')"
      ]
     },
     "execution_count": 31,
     "metadata": {},
     "output_type": "execute_result"
    }
   ],
   "source": [
    "wn.lemma('car.n.01.automobile').synset()"
   ]
  },
  {
   "cell_type": "code",
   "execution_count": 32,
   "id": "52368382",
   "metadata": {},
   "outputs": [
    {
     "data": {
      "text/plain": [
       "'automobile'"
      ]
     },
     "execution_count": 32,
     "metadata": {},
     "output_type": "execute_result"
    }
   ],
   "source": [
    "wn.lemma('car.n.01.automobile').name()"
   ]
  },
  {
   "cell_type": "code",
   "execution_count": 33,
   "id": "d34146d9",
   "metadata": {},
   "outputs": [
    {
     "data": {
      "text/plain": [
       "[Synset('car.n.01'),\n",
       " Synset('car.n.02'),\n",
       " Synset('car.n.03'),\n",
       " Synset('car.n.04'),\n",
       " Synset('cable_car.n.01')]"
      ]
     },
     "execution_count": 33,
     "metadata": {},
     "output_type": "execute_result"
    }
   ],
   "source": [
    "wn.synsets('car')"
   ]
  },
  {
   "cell_type": "code",
   "execution_count": 35,
   "id": "b706d223",
   "metadata": {},
   "outputs": [
    {
     "name": "stdout",
     "output_type": "stream",
     "text": [
      "['car', 'auto', 'automobile', 'machine', 'motorcar']\n",
      "['car', 'railcar', 'railway_car', 'railroad_car']\n",
      "['car', 'gondola']\n",
      "['car', 'elevator_car']\n",
      "['cable_car', 'car']\n"
     ]
    }
   ],
   "source": [
    "for synset in wn.synsets('car'):\n",
    "    print(synset.lemma_names())"
   ]
  },
  {
   "cell_type": "code",
   "execution_count": 36,
   "id": "45e23aa6",
   "metadata": {},
   "outputs": [
    {
     "data": {
      "text/plain": [
       "[Lemma('car.n.01.car'),\n",
       " Lemma('car.n.02.car'),\n",
       " Lemma('car.n.03.car'),\n",
       " Lemma('car.n.04.car'),\n",
       " Lemma('cable_car.n.01.car')]"
      ]
     },
     "execution_count": 36,
     "metadata": {},
     "output_type": "execute_result"
    }
   ],
   "source": [
    "wn.lemmas('car')"
   ]
  },
  {
   "cell_type": "code",
   "execution_count": 37,
   "id": "9c244c52",
   "metadata": {},
   "outputs": [],
   "source": [
    "motorcar = wn.synset('car.n.01')"
   ]
  },
  {
   "cell_type": "code",
   "execution_count": 38,
   "id": "3626df4b",
   "metadata": {},
   "outputs": [],
   "source": [
    "types_of_motorcar = motorcar.hyponyms()"
   ]
  },
  {
   "cell_type": "code",
   "execution_count": 39,
   "id": "2cd3e231",
   "metadata": {},
   "outputs": [
    {
     "data": {
      "text/plain": [
       "[Synset('ambulance.n.01'),\n",
       " Synset('beach_wagon.n.01'),\n",
       " Synset('bus.n.04'),\n",
       " Synset('cab.n.03'),\n",
       " Synset('compact.n.03'),\n",
       " Synset('convertible.n.01'),\n",
       " Synset('coupe.n.01'),\n",
       " Synset('cruiser.n.01'),\n",
       " Synset('electric.n.01'),\n",
       " Synset('gas_guzzler.n.01'),\n",
       " Synset('hardtop.n.01'),\n",
       " Synset('hatchback.n.01'),\n",
       " Synset('horseless_carriage.n.01'),\n",
       " Synset('hot_rod.n.01'),\n",
       " Synset('jeep.n.01'),\n",
       " Synset('limousine.n.01'),\n",
       " Synset('loaner.n.02'),\n",
       " Synset('minicar.n.01'),\n",
       " Synset('minivan.n.01'),\n",
       " Synset('model_t.n.01'),\n",
       " Synset('pace_car.n.01'),\n",
       " Synset('racer.n.02'),\n",
       " Synset('roadster.n.01'),\n",
       " Synset('sedan.n.01'),\n",
       " Synset('sport_utility.n.01'),\n",
       " Synset('sports_car.n.01'),\n",
       " Synset('stanley_steamer.n.01'),\n",
       " Synset('stock_car.n.01'),\n",
       " Synset('subcompact.n.01'),\n",
       " Synset('touring_car.n.01'),\n",
       " Synset('used-car.n.01')]"
      ]
     },
     "execution_count": 39,
     "metadata": {},
     "output_type": "execute_result"
    }
   ],
   "source": [
    "types_of_motorcar"
   ]
  },
  {
   "cell_type": "code",
   "execution_count": 40,
   "id": "2abba392",
   "metadata": {},
   "outputs": [
    {
     "data": {
      "text/plain": [
       "[Synset('ambulance.n.01'),\n",
       " Synset('beach_wagon.n.01'),\n",
       " Synset('bus.n.04'),\n",
       " Synset('cab.n.03'),\n",
       " Synset('compact.n.03'),\n",
       " Synset('convertible.n.01'),\n",
       " Synset('coupe.n.01'),\n",
       " Synset('cruiser.n.01'),\n",
       " Synset('electric.n.01'),\n",
       " Synset('gas_guzzler.n.01'),\n",
       " Synset('hardtop.n.01'),\n",
       " Synset('hatchback.n.01'),\n",
       " Synset('horseless_carriage.n.01'),\n",
       " Synset('hot_rod.n.01'),\n",
       " Synset('jeep.n.01'),\n",
       " Synset('limousine.n.01'),\n",
       " Synset('loaner.n.02'),\n",
       " Synset('minicar.n.01'),\n",
       " Synset('minivan.n.01'),\n",
       " Synset('model_t.n.01'),\n",
       " Synset('pace_car.n.01'),\n",
       " Synset('racer.n.02'),\n",
       " Synset('roadster.n.01'),\n",
       " Synset('sedan.n.01'),\n",
       " Synset('sport_utility.n.01'),\n",
       " Synset('sports_car.n.01'),\n",
       " Synset('stanley_steamer.n.01'),\n",
       " Synset('stock_car.n.01'),\n",
       " Synset('subcompact.n.01'),\n",
       " Synset('touring_car.n.01'),\n",
       " Synset('used-car.n.01')]"
      ]
     },
     "execution_count": 40,
     "metadata": {},
     "output_type": "execute_result"
    }
   ],
   "source": [
    "motorcar.hyponyms()"
   ]
  },
  {
   "cell_type": "code",
   "execution_count": 46,
   "id": "6e0e3247",
   "metadata": {},
   "outputs": [
    {
     "data": {
      "text/plain": [
       "[Synset('motor_vehicle.n.01')]"
      ]
     },
     "execution_count": 46,
     "metadata": {},
     "output_type": "execute_result"
    }
   ],
   "source": [
    "motorcar.hypernyms()"
   ]
  },
  {
   "cell_type": "code",
   "execution_count": 48,
   "id": "e4333509",
   "metadata": {},
   "outputs": [],
   "source": [
    "path = motorcar.hypernym_paths()"
   ]
  },
  {
   "cell_type": "code",
   "execution_count": 49,
   "id": "820edba2",
   "metadata": {},
   "outputs": [
    {
     "data": {
      "text/plain": [
       "2"
      ]
     },
     "execution_count": 49,
     "metadata": {},
     "output_type": "execute_result"
    }
   ],
   "source": [
    "len(path)"
   ]
  },
  {
   "cell_type": "code",
   "execution_count": 51,
   "id": "a23fc9e6",
   "metadata": {},
   "outputs": [
    {
     "data": {
      "text/plain": [
       "['entity.n.01',\n",
       " 'physical_entity.n.01',\n",
       " 'object.n.01',\n",
       " 'whole.n.02',\n",
       " 'artifact.n.01',\n",
       " 'instrumentality.n.03',\n",
       " 'container.n.01',\n",
       " 'wheeled_vehicle.n.01',\n",
       " 'self-propelled_vehicle.n.01',\n",
       " 'motor_vehicle.n.01',\n",
       " 'car.n.01']"
      ]
     },
     "execution_count": 51,
     "metadata": {},
     "output_type": "execute_result"
    }
   ],
   "source": [
    "[synset.name() for synset in path[0]]"
   ]
  },
  {
   "cell_type": "code",
   "execution_count": 53,
   "id": "8f9b7875",
   "metadata": {},
   "outputs": [
    {
     "data": {
      "text/plain": [
       "['entity.n.01',\n",
       " 'physical_entity.n.01',\n",
       " 'object.n.01',\n",
       " 'whole.n.02',\n",
       " 'artifact.n.01',\n",
       " 'instrumentality.n.03',\n",
       " 'conveyance.n.03',\n",
       " 'vehicle.n.01',\n",
       " 'wheeled_vehicle.n.01',\n",
       " 'self-propelled_vehicle.n.01',\n",
       " 'motor_vehicle.n.01',\n",
       " 'car.n.01']"
      ]
     },
     "execution_count": 53,
     "metadata": {},
     "output_type": "execute_result"
    }
   ],
   "source": [
    "[synset.name() for synset in path[1]]"
   ]
  },
  {
   "cell_type": "code",
   "execution_count": 54,
   "id": "eb25e95d",
   "metadata": {},
   "outputs": [
    {
     "data": {
      "text/plain": [
       "[Synset('burl.n.02'),\n",
       " Synset('crown.n.07'),\n",
       " Synset('limb.n.02'),\n",
       " Synset('stump.n.01'),\n",
       " Synset('trunk.n.01')]"
      ]
     },
     "execution_count": 54,
     "metadata": {},
     "output_type": "execute_result"
    }
   ],
   "source": [
    "wn.synset('tree.n.01').part_meronyms()"
   ]
  },
  {
   "cell_type": "code",
   "execution_count": 56,
   "id": "9fd5bd42",
   "metadata": {},
   "outputs": [
    {
     "data": {
      "text/plain": [
       "[Synset('heartwood.n.01'), Synset('sapwood.n.01')]"
      ]
     },
     "execution_count": 56,
     "metadata": {},
     "output_type": "execute_result"
    }
   ],
   "source": [
    "wn.synset('tree.n.01').substance_meronyms()"
   ]
  },
  {
   "cell_type": "code",
   "execution_count": 60,
   "id": "32147b46",
   "metadata": {},
   "outputs": [
    {
     "data": {
      "text/plain": [
       "[Synset('forest.n.01')]"
      ]
     },
     "execution_count": 60,
     "metadata": {},
     "output_type": "execute_result"
    }
   ],
   "source": [
    "wn.synset('tree.n.01').member_holonyms()"
   ]
  },
  {
   "cell_type": "code",
   "execution_count": 61,
   "id": "1a381cea",
   "metadata": {},
   "outputs": [
    {
     "data": {
      "text/plain": [
       "[Synset('batch.n.02'),\n",
       " Synset('mint.n.02'),\n",
       " Synset('mint.n.03'),\n",
       " Synset('mint.n.04'),\n",
       " Synset('mint.n.05'),\n",
       " Synset('mint.n.06')]"
      ]
     },
     "execution_count": 61,
     "metadata": {},
     "output_type": "execute_result"
    }
   ],
   "source": [
    "wn.synsets('mint', wn.NOUN)"
   ]
  },
  {
   "cell_type": "code",
   "execution_count": 62,
   "id": "3ac9a80d",
   "metadata": {},
   "outputs": [
    {
     "name": "stdout",
     "output_type": "stream",
     "text": [
      "batch.n.02: (often followed by `of') a large number or amount or extent\n",
      "mint.n.02: any north temperate plant of the genus Mentha with aromatic leaves and small mauve flowers\n",
      "mint.n.03: any member of the mint family of plants\n",
      "mint.n.04: the leaves of a mint plant used fresh or candied\n",
      "mint.n.05: a candy that is flavored with a mint oil\n",
      "mint.n.06: a plant where money is coined by authority of the government\n"
     ]
    }
   ],
   "source": [
    "for synset in wn.synsets('mint', wn.NOUN):\n",
    "    print(synset.name() + ':', synset.definition())"
   ]
  },
  {
   "cell_type": "code",
   "execution_count": 63,
   "id": "e847f3c3",
   "metadata": {},
   "outputs": [
    {
     "data": {
      "text/plain": [
       "[Synset('coffee.n.01'),\n",
       " Synset('coffee.n.02'),\n",
       " Synset('coffee_bean.n.01'),\n",
       " Synset('chocolate.n.03')]"
      ]
     },
     "execution_count": 63,
     "metadata": {},
     "output_type": "execute_result"
    }
   ],
   "source": [
    "wn.synsets('coffee', wn.NOUN)"
   ]
  },
  {
   "cell_type": "code",
   "execution_count": 65,
   "id": "8175d72d",
   "metadata": {},
   "outputs": [
    {
     "name": "stdout",
     "output_type": "stream",
     "text": [
      "coffee.n.01: a beverage consisting of an infusion of ground coffee beans\n",
      "coffee.n.02: any of several small trees and shrubs native to the tropical Old World yielding coffee beans\n",
      "coffee_bean.n.01: a seed of the coffee tree; ground to make coffee\n",
      "chocolate.n.03: a medium brown to dark-brown color\n"
     ]
    }
   ],
   "source": [
    "for synset in wn.synsets('coffee', wn.NOUN):\n",
    "    print(synset.name() + ':', synset.definition())"
   ]
  },
  {
   "cell_type": "code",
   "execution_count": 72,
   "id": "b8bb9541",
   "metadata": {},
   "outputs": [
    {
     "data": {
      "text/plain": [
       "[Synset('mint.n.02')]"
      ]
     },
     "execution_count": 72,
     "metadata": {},
     "output_type": "execute_result"
    }
   ],
   "source": [
    "wn.synset('mint.n.04').part_holonyms()"
   ]
  },
  {
   "cell_type": "code",
   "execution_count": 71,
   "id": "1a4681ce",
   "metadata": {},
   "outputs": [
    {
     "data": {
      "text/plain": [
       "['mint']"
      ]
     },
     "execution_count": 71,
     "metadata": {},
     "output_type": "execute_result"
    }
   ],
   "source": [
    "wn.synset('mint.n.02').lemma_names()"
   ]
  },
  {
   "cell_type": "code",
   "execution_count": 73,
   "id": "f2918531",
   "metadata": {},
   "outputs": [
    {
     "data": {
      "text/plain": [
       "[Synset('step.v.01')]"
      ]
     },
     "execution_count": 73,
     "metadata": {},
     "output_type": "execute_result"
    }
   ],
   "source": [
    "wn.synset('walk.v.01').entailments()"
   ]
  },
  {
   "cell_type": "code",
   "execution_count": 74,
   "id": "504ab0ac",
   "metadata": {},
   "outputs": [
    {
     "data": {
      "text/plain": [
       "[Synset('chew.v.01'), Synset('swallow.v.01')]"
      ]
     },
     "execution_count": 74,
     "metadata": {},
     "output_type": "execute_result"
    }
   ],
   "source": [
    "wn.synset('eat.v.01').entailments()"
   ]
  },
  {
   "cell_type": "code",
   "execution_count": 76,
   "id": "eaefe337",
   "metadata": {},
   "outputs": [
    {
     "data": {
      "text/plain": [
       "[Synset('arouse.v.07'), Synset('disappoint.v.01')]"
      ]
     },
     "execution_count": 76,
     "metadata": {},
     "output_type": "execute_result"
    }
   ],
   "source": [
    "wn.synset('tease.v.03').entailments()"
   ]
  },
  {
   "cell_type": "code",
   "execution_count": 77,
   "id": "da883b80",
   "metadata": {},
   "outputs": [
    {
     "data": {
      "text/plain": [
       "[Lemma('demand.n.02.demand')]"
      ]
     },
     "execution_count": 77,
     "metadata": {},
     "output_type": "execute_result"
    }
   ],
   "source": [
    "wn.lemma('supply.n.02.supply').antonyms()"
   ]
  },
  {
   "cell_type": "code",
   "execution_count": 80,
   "id": "042dfb3b",
   "metadata": {},
   "outputs": [
    {
     "data": {
      "text/plain": [
       "[Lemma('linger.v.04.linger')]"
      ]
     },
     "execution_count": 80,
     "metadata": {},
     "output_type": "execute_result"
    }
   ],
   "source": [
    "wn.lemma('rush.v.01.rush').antonyms()"
   ]
  },
  {
   "cell_type": "code",
   "execution_count": 81,
   "id": "ec19c4a4",
   "metadata": {},
   "outputs": [
    {
     "data": {
      "text/plain": [
       "[Lemma('vertical.a.01.vertical'), Lemma('inclined.a.02.inclined')]"
      ]
     },
     "execution_count": 81,
     "metadata": {},
     "output_type": "execute_result"
    }
   ],
   "source": [
    "wn.lemma('horizontal.a.01.horizontal').antonyms()"
   ]
  },
  {
   "cell_type": "code",
   "execution_count": 82,
   "id": "c599b453",
   "metadata": {},
   "outputs": [
    {
     "data": {
      "text/plain": [
       "[Lemma('legato.r.01.legato')]"
      ]
     },
     "execution_count": 82,
     "metadata": {},
     "output_type": "execute_result"
    }
   ],
   "source": [
    "wn.lemma('staccato.r.01.staccato').antonyms()"
   ]
  },
  {
   "cell_type": "code",
   "execution_count": 84,
   "id": "bd9298b0",
   "metadata": {},
   "outputs": [
    {
     "data": {
      "text/plain": [
       "[Synset('baleen_whale.n.01')]"
      ]
     },
     "execution_count": 84,
     "metadata": {},
     "output_type": "execute_result"
    }
   ],
   "source": [
    "right = wn.synset ('right_whale.n.01')\n",
    "orca = wn.synset('orca.n.01')\n",
    "minke = wn.synset ('minke_whale.n.01')\n",
    "tortoise = wn.synset ('tortoise.n.01')\n",
    "novel = wn.synset ('novel.n.01')\n",
    "right. lowest_common_hypernyms (minke)"
   ]
  },
  {
   "cell_type": "code",
   "execution_count": 85,
   "id": "df8bb3d3",
   "metadata": {},
   "outputs": [
    {
     "data": {
      "text/plain": [
       "[Synset('whale.n.02')]"
      ]
     },
     "execution_count": 85,
     "metadata": {},
     "output_type": "execute_result"
    }
   ],
   "source": [
    "right. lowest_common_hypernyms (orca)"
   ]
  },
  {
   "cell_type": "code",
   "execution_count": 88,
   "id": "ddfe1f5a",
   "metadata": {},
   "outputs": [
    {
     "data": {
      "text/plain": [
       "[Synset('vertebrate.n.01')]"
      ]
     },
     "execution_count": 88,
     "metadata": {},
     "output_type": "execute_result"
    }
   ],
   "source": [
    "right.lowest_common_hypernyms(tortoise)"
   ]
  },
  {
   "cell_type": "code",
   "execution_count": 89,
   "id": "bd88d6d4",
   "metadata": {},
   "outputs": [
    {
     "data": {
      "text/plain": [
       "[Synset('entity.n.01')]"
      ]
     },
     "execution_count": 89,
     "metadata": {},
     "output_type": "execute_result"
    }
   ],
   "source": [
    "right.lowest_common_hypernyms(novel)"
   ]
  },
  {
   "cell_type": "code",
   "execution_count": 90,
   "id": "e5490014",
   "metadata": {},
   "outputs": [
    {
     "data": {
      "text/plain": [
       "0.25"
      ]
     },
     "execution_count": 90,
     "metadata": {},
     "output_type": "execute_result"
    }
   ],
   "source": [
    "right.path_similarity(minke)"
   ]
  },
  {
   "cell_type": "code",
   "execution_count": 91,
   "id": "00c9320e",
   "metadata": {},
   "outputs": [
    {
     "data": {
      "text/plain": [
       "0.16666666666666666"
      ]
     },
     "execution_count": 91,
     "metadata": {},
     "output_type": "execute_result"
    }
   ],
   "source": [
    "right.path_similarity(orca)"
   ]
  },
  {
   "cell_type": "code",
   "execution_count": 92,
   "id": "1af17e4b",
   "metadata": {},
   "outputs": [
    {
     "data": {
      "text/plain": [
       "0.07692307692307693"
      ]
     },
     "execution_count": 92,
     "metadata": {},
     "output_type": "execute_result"
    }
   ],
   "source": [
    "right.path_similarity(tortoise)"
   ]
  },
  {
   "cell_type": "code",
   "execution_count": 93,
   "id": "aa6dd2d1",
   "metadata": {},
   "outputs": [
    {
     "data": {
      "text/plain": [
       "0.043478260869565216"
      ]
     },
     "execution_count": 93,
     "metadata": {},
     "output_type": "execute_result"
    }
   ],
   "source": [
    "right.path_similarity(novel)"
   ]
  },
  {
   "cell_type": "code",
   "execution_count": 94,
   "id": "9c77c836",
   "metadata": {},
   "outputs": [
    {
     "data": {
      "text/plain": [
       "14"
      ]
     },
     "execution_count": 94,
     "metadata": {},
     "output_type": "execute_result"
    }
   ],
   "source": [
    "wn.synset('baleen_whale.n.01').min_depth()"
   ]
  },
  {
   "cell_type": "code",
   "execution_count": 95,
   "id": "d1c92c58",
   "metadata": {},
   "outputs": [
    {
     "data": {
      "text/plain": [
       "13"
      ]
     },
     "execution_count": 95,
     "metadata": {},
     "output_type": "execute_result"
    }
   ],
   "source": [
    "wn.synset('whale.n.02').min_depth()"
   ]
  },
  {
   "cell_type": "code",
   "execution_count": 98,
   "id": "b175b2c8",
   "metadata": {},
   "outputs": [
    {
     "data": {
      "text/plain": [
       "8"
      ]
     },
     "execution_count": 98,
     "metadata": {},
     "output_type": "execute_result"
    }
   ],
   "source": [
    "wn.synset('vertebrate.n.01').min_depth()"
   ]
  },
  {
   "cell_type": "code",
   "execution_count": 99,
   "id": "4fca612a",
   "metadata": {},
   "outputs": [
    {
     "data": {
      "text/plain": [
       "0"
      ]
     },
     "execution_count": 99,
     "metadata": {},
     "output_type": "execute_result"
    }
   ],
   "source": [
    "wn.synset('entity.n.01').min_depth()"
   ]
  },
  {
   "cell_type": "code",
   "execution_count": null,
   "id": "8aa40aa0",
   "metadata": {},
   "outputs": [],
   "source": []
  }
 ],
 "metadata": {
  "kernelspec": {
   "display_name": "Python 3 (ipykernel)",
   "language": "python",
   "name": "python3"
  },
  "language_info": {
   "codemirror_mode": {
    "name": "ipython",
    "version": 3
   },
   "file_extension": ".py",
   "mimetype": "text/x-python",
   "name": "python",
   "nbconvert_exporter": "python",
   "pygments_lexer": "ipython3",
   "version": "3.11.5"
  }
 },
 "nbformat": 4,
 "nbformat_minor": 5
}
